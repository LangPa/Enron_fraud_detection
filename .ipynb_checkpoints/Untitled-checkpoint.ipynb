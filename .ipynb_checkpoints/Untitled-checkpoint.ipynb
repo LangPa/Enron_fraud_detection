{
 "cells": [
  {
   "cell_type": "markdown",
   "metadata": {},
   "source": [
    "# Analysing the Enron Dataset with machine learning\n",
    "\n",
    "This project was done as the part of Udacity’s Introduction to Machine Learning course. I completed this course in January 2020, all the original data may be found [here](https://github.com/udacity/ud120-projects).\n",
    "The data used for the analysis was provided by Udacity, the complete Enron dataset can be found and downloaded online."
   ]
  },
  {
   "cell_type": "markdown",
   "metadata": {},
   "source": [
    "## Introduction\n",
    "The Enron scandal was a series of events that ultimately led to the bankruptcy of U.S. energy, commodities, and services company Enron Corporation and the dissolution of Arthur Andersen LLP, which had been one of the largest auditing and accounting companies in the world. It resulted in 4000 employees losing their jobs and far more losing their saving plans whilst the top executives pocketed millions.\n",
    "The Enron dataset is unique in that it is the largest publicly available mass collection of real emails, allowing interesting case studies into the collapse of the company.\n",
    "\n",
    "Using the Enron dataset I will be performing supervised learning techniques to see if the conspirators (identified as persons of interest or poi) in the scandal can be identified via their financial and communication patterns within the company.\n"
   ]
  },
  {
   "cell_type": "code",
   "execution_count": 1,
   "metadata": {},
   "outputs": [],
   "source": [
    "# Import necessary tools\n",
    "\n",
    "import sys\n",
    "import pickle\n",
    "import matplotlib.pyplot\n",
    "import pandas as pd\n",
    "import numpy as np"
   ]
  },
  {
   "cell_type": "code",
   "execution_count": 2,
   "metadata": {},
   "outputs": [],
   "source": [
    "# Loading the data\n",
    "with open(\"final_project_dataset_unix.pkl\", \"rb\") as data_file:\n",
    "    data_dict = pickle.load(data_file)"
   ]
  },
  {
   "cell_type": "code",
   "execution_count": 3,
   "metadata": {},
   "outputs": [],
   "source": [
    "# Putting the data into a Pandas Dataframe\n",
    "df = pd.DataFrame.from_dict(data_dict, 'index').replace('NaN', np.NaN)"
   ]
  },
  {
   "cell_type": "markdown",
   "metadata": {},
   "source": [
    "## Data cleaning and outlier investigation\n",
    "\n",
    "My first step was to transfer the data into a Pandas DataFrame in order to perform more scrutiny.\n",
    "Now I'll inspect the data to get a better understanding and to see if any errors can be spotted right away."
   ]
  },
  {
   "cell_type": "code",
   "execution_count": 4,
   "metadata": {},
   "outputs": [
    {
     "name": "stdout",
     "output_type": "stream",
     "text": [
      "<class 'pandas.core.frame.DataFrame'>\n",
      "Index: 146 entries, ALLEN PHILLIP K to YEAP SOON\n",
      "Data columns (total 21 columns):\n",
      "salary                       95 non-null float64\n",
      "to_messages                  86 non-null float64\n",
      "deferral_payments            39 non-null float64\n",
      "total_payments               125 non-null float64\n",
      "loan_advances                4 non-null float64\n",
      "bonus                        82 non-null float64\n",
      "email_address                111 non-null object\n",
      "restricted_stock_deferred    18 non-null float64\n",
      "deferred_income              49 non-null float64\n",
      "total_stock_value            126 non-null float64\n",
      "expenses                     95 non-null float64\n",
      "from_poi_to_this_person      86 non-null float64\n",
      "exercised_stock_options      102 non-null float64\n",
      "from_messages                86 non-null float64\n",
      "other                        93 non-null float64\n",
      "from_this_person_to_poi      86 non-null float64\n",
      "poi                          146 non-null bool\n",
      "long_term_incentive          66 non-null float64\n",
      "shared_receipt_with_poi      86 non-null float64\n",
      "restricted_stock             110 non-null float64\n",
      "director_fees                17 non-null float64\n",
      "dtypes: bool(1), float64(19), object(1)\n",
      "memory usage: 24.1+ KB\n"
     ]
    }
   ],
   "source": [
    "df.info()"
   ]
  },
  {
   "cell_type": "markdown",
   "metadata": {},
   "source": [
    "The dataframe contains 146 entries containing both financial and email information about 146 induviduals, this is quite a small dataset and it also has an alarming amount of missing values. According to the [original documnetation](https://github.com/udacity/ud120-projects/blob/master/final_project/enron61702insiderpay.pdf) for the financial features the `NaN` values can be replaced with 0s."
   ]
  },
  {
   "cell_type": "code",
   "execution_count": 5,
   "metadata": {},
   "outputs": [],
   "source": [
    "# Defining financial and email features\n",
    "financial_features = ['salary', 'bonus', 'long_term_incentive','deferred_income', 'deferral_payments','loan_advances', 'other','expenses', 'director_fees', 'total_payments', 'exercised_stock_options','restricted_stock','restricted_stock_deferred',  'total_stock_value'] \n",
    "email_features = ['email_address', 'to_messages', 'from_poi_to_this_person', 'from_messages', 'from_this_person_to_poi', 'shared_receipt_with_poi']"
   ]
  },
  {
   "cell_type": "code",
   "execution_count": 6,
   "metadata": {},
   "outputs": [
    {
     "name": "stdout",
     "output_type": "stream",
     "text": [
      "<class 'pandas.core.frame.DataFrame'>\n",
      "Index: 146 entries, ALLEN PHILLIP K to YEAP SOON\n",
      "Data columns (total 21 columns):\n",
      "salary                       146 non-null float64\n",
      "to_messages                  86 non-null float64\n",
      "deferral_payments            146 non-null float64\n",
      "total_payments               146 non-null float64\n",
      "loan_advances                146 non-null float64\n",
      "bonus                        146 non-null float64\n",
      "email_address                111 non-null object\n",
      "restricted_stock_deferred    146 non-null float64\n",
      "deferred_income              146 non-null float64\n",
      "total_stock_value            146 non-null float64\n",
      "expenses                     146 non-null float64\n",
      "from_poi_to_this_person      86 non-null float64\n",
      "exercised_stock_options      146 non-null float64\n",
      "from_messages                86 non-null float64\n",
      "other                        146 non-null float64\n",
      "from_this_person_to_poi      86 non-null float64\n",
      "poi                          146 non-null bool\n",
      "long_term_incentive          146 non-null float64\n",
      "shared_receipt_with_poi      86 non-null float64\n",
      "restricted_stock             146 non-null float64\n",
      "director_fees                146 non-null float64\n",
      "dtypes: bool(1), float64(19), object(1)\n",
      "memory usage: 24.1+ KB\n"
     ]
    }
   ],
   "source": [
    "df.update(df[financial_features].fillna(0))\n",
    "df.info()"
   ]
  },
  {
   "cell_type": "markdown",
   "metadata": {},
   "source": [
    "This is much better but it appears that we only have the email information for 86 of the induviduals, if we were to drop these we would lose 40% of the data shrinking an already small dataset. "
   ]
  },
  {
   "cell_type": "code",
   "execution_count": 7,
   "metadata": {},
   "outputs": [
    {
     "data": {
      "text/html": [
       "<div>\n",
       "<style scoped>\n",
       "    .dataframe tbody tr th:only-of-type {\n",
       "        vertical-align: middle;\n",
       "    }\n",
       "\n",
       "    .dataframe tbody tr th {\n",
       "        vertical-align: top;\n",
       "    }\n",
       "\n",
       "    .dataframe thead th {\n",
       "        text-align: right;\n",
       "    }\n",
       "</style>\n",
       "<table border=\"1\" class=\"dataframe\">\n",
       "  <thead>\n",
       "    <tr style=\"text-align: right;\">\n",
       "      <th></th>\n",
       "      <th>to_messages</th>\n",
       "      <th>from_poi_to_this_person</th>\n",
       "      <th>from_messages</th>\n",
       "      <th>from_this_person_to_poi</th>\n",
       "      <th>shared_receipt_with_poi</th>\n",
       "    </tr>\n",
       "    <tr>\n",
       "      <th>poi</th>\n",
       "      <th></th>\n",
       "      <th></th>\n",
       "      <th></th>\n",
       "      <th></th>\n",
       "      <th></th>\n",
       "    </tr>\n",
       "  </thead>\n",
       "  <tbody>\n",
       "    <tr>\n",
       "      <th>False</th>\n",
       "      <td>2007.111111</td>\n",
       "      <td>58.500000</td>\n",
       "      <td>668.763889</td>\n",
       "      <td>36.277778</td>\n",
       "      <td>1058.527778</td>\n",
       "    </tr>\n",
       "    <tr>\n",
       "      <th>True</th>\n",
       "      <td>2417.142857</td>\n",
       "      <td>97.785714</td>\n",
       "      <td>300.357143</td>\n",
       "      <td>66.714286</td>\n",
       "      <td>1783.000000</td>\n",
       "    </tr>\n",
       "  </tbody>\n",
       "</table>\n",
       "</div>"
      ],
      "text/plain": [
       "       to_messages  from_poi_to_this_person  from_messages  \\\n",
       "poi                                                          \n",
       "False  2007.111111                58.500000     668.763889   \n",
       "True   2417.142857                97.785714     300.357143   \n",
       "\n",
       "       from_this_person_to_poi  shared_receipt_with_poi  \n",
       "poi                                                      \n",
       "False                36.277778              1058.527778  \n",
       "True                 66.714286              1783.000000  "
      ]
     },
     "execution_count": 7,
     "metadata": {},
     "output_type": "execute_result"
    }
   ],
   "source": [
    "df.groupby(['poi'])[email_features].mean()"
   ]
  },
  {
   "cell_type": "markdown",
   "metadata": {},
   "source": [
    "From above I saw that there was a large disparity in the email features betweent the *poi* and non-*poi*.\n",
    "To best preserve the data I'll replace the `NaN` values in the email features with the mean values grouped by whether or not they are a *poi*. "
   ]
  },
  {
   "cell_type": "code",
   "execution_count": 8,
   "metadata": {},
   "outputs": [],
   "source": [
    "# fill missing email data with respected averages \n",
    "df_mean = df.groupby('poi').mean()\n",
    "mean_poi = df[df['poi'] == True].fillna(value = df_mean.loc[True])\n",
    "mean_not_poi = df[df['poi'] == False].fillna(value = df_mean.loc[False])\n",
    "df.update(mean_poi)\n",
    "df.update(mean_not_poi)"
   ]
  },
  {
   "cell_type": "code",
   "execution_count": 9,
   "metadata": {},
   "outputs": [
    {
     "name": "stdout",
     "output_type": "stream",
     "text": [
      "<class 'pandas.core.frame.DataFrame'>\n",
      "Index: 146 entries, ALLEN PHILLIP K to YEAP SOON\n",
      "Data columns (total 21 columns):\n",
      "salary                       146 non-null float64\n",
      "to_messages                  146 non-null float64\n",
      "deferral_payments            146 non-null float64\n",
      "total_payments               146 non-null float64\n",
      "loan_advances                146 non-null float64\n",
      "bonus                        146 non-null float64\n",
      "email_address                111 non-null object\n",
      "restricted_stock_deferred    146 non-null float64\n",
      "deferred_income              146 non-null float64\n",
      "total_stock_value            146 non-null float64\n",
      "expenses                     146 non-null float64\n",
      "from_poi_to_this_person      146 non-null float64\n",
      "exercised_stock_options      146 non-null float64\n",
      "from_messages                146 non-null float64\n",
      "other                        146 non-null float64\n",
      "from_this_person_to_poi      146 non-null float64\n",
      "poi                          146 non-null object\n",
      "long_term_incentive          146 non-null float64\n",
      "shared_receipt_with_poi      146 non-null float64\n",
      "restricted_stock             146 non-null float64\n",
      "director_fees                146 non-null float64\n",
      "dtypes: float64(19), object(2)\n",
      "memory usage: 25.1+ KB\n"
     ]
    }
   ],
   "source": [
    "df.info()"
   ]
  },
  {
   "cell_type": "markdown",
   "metadata": {},
   "source": [
    "Finally we have a complete dataset, aside from some missing email addresses that will not be used."
   ]
  },
  {
   "cell_type": "code",
   "execution_count": 10,
   "metadata": {},
   "outputs": [],
   "source": [
    "df.drop('email_address', axis = 1, inplace = True)"
   ]
  },
  {
   "cell_type": "markdown",
   "metadata": {},
   "source": [
    "Lets have a look at some of the stats:"
   ]
  },
  {
   "cell_type": "code",
   "execution_count": 11,
   "metadata": {},
   "outputs": [
    {
     "data": {
      "text/html": [
       "<div>\n",
       "<style scoped>\n",
       "    .dataframe tbody tr th:only-of-type {\n",
       "        vertical-align: middle;\n",
       "    }\n",
       "\n",
       "    .dataframe tbody tr th {\n",
       "        vertical-align: top;\n",
       "    }\n",
       "\n",
       "    .dataframe thead th {\n",
       "        text-align: right;\n",
       "    }\n",
       "</style>\n",
       "<table border=\"1\" class=\"dataframe\">\n",
       "  <thead>\n",
       "    <tr style=\"text-align: right;\">\n",
       "      <th></th>\n",
       "      <th>salary</th>\n",
       "      <th>to_messages</th>\n",
       "      <th>deferral_payments</th>\n",
       "      <th>total_payments</th>\n",
       "      <th>loan_advances</th>\n",
       "      <th>bonus</th>\n",
       "      <th>restricted_stock_deferred</th>\n",
       "      <th>deferred_income</th>\n",
       "      <th>total_stock_value</th>\n",
       "      <th>expenses</th>\n",
       "      <th>from_poi_to_this_person</th>\n",
       "      <th>exercised_stock_options</th>\n",
       "      <th>from_messages</th>\n",
       "      <th>other</th>\n",
       "      <th>from_this_person_to_poi</th>\n",
       "      <th>long_term_incentive</th>\n",
       "      <th>shared_receipt_with_poi</th>\n",
       "      <th>restricted_stock</th>\n",
       "      <th>director_fees</th>\n",
       "    </tr>\n",
       "  </thead>\n",
       "  <tbody>\n",
       "    <tr>\n",
       "      <th>count</th>\n",
       "      <td>1.460000e+02</td>\n",
       "      <td>146.000000</td>\n",
       "      <td>1.460000e+02</td>\n",
       "      <td>1.460000e+02</td>\n",
       "      <td>1.460000e+02</td>\n",
       "      <td>1.460000e+02</td>\n",
       "      <td>1.460000e+02</td>\n",
       "      <td>1.460000e+02</td>\n",
       "      <td>1.460000e+02</td>\n",
       "      <td>1.460000e+02</td>\n",
       "      <td>146.000000</td>\n",
       "      <td>1.460000e+02</td>\n",
       "      <td>146.000000</td>\n",
       "      <td>1.460000e+02</td>\n",
       "      <td>146.000000</td>\n",
       "      <td>1.460000e+02</td>\n",
       "      <td>146.000000</td>\n",
       "      <td>1.460000e+02</td>\n",
       "      <td>1.460000e+02</td>\n",
       "    </tr>\n",
       "    <tr>\n",
       "      <th>mean</th>\n",
       "      <td>3.658114e+05</td>\n",
       "      <td>2057.662970</td>\n",
       "      <td>4.387965e+05</td>\n",
       "      <td>4.350622e+06</td>\n",
       "      <td>1.149658e+06</td>\n",
       "      <td>1.333474e+06</td>\n",
       "      <td>2.051637e+04</td>\n",
       "      <td>-3.827622e+05</td>\n",
       "      <td>5.846018e+06</td>\n",
       "      <td>7.074827e+04</td>\n",
       "      <td>63.343444</td>\n",
       "      <td>4.182736e+06</td>\n",
       "      <td>623.343879</td>\n",
       "      <td>5.854318e+05</td>\n",
       "      <td>40.030224</td>\n",
       "      <td>6.646839e+05</td>\n",
       "      <td>1147.846271</td>\n",
       "      <td>1.749257e+06</td>\n",
       "      <td>1.942249e+04</td>\n",
       "    </tr>\n",
       "    <tr>\n",
       "      <th>std</th>\n",
       "      <td>2.203575e+06</td>\n",
       "      <td>1978.612966</td>\n",
       "      <td>2.741325e+06</td>\n",
       "      <td>2.693448e+07</td>\n",
       "      <td>9.649342e+06</td>\n",
       "      <td>8.094029e+06</td>\n",
       "      <td>1.439661e+06</td>\n",
       "      <td>2.378250e+06</td>\n",
       "      <td>3.624681e+07</td>\n",
       "      <td>4.327163e+05</td>\n",
       "      <td>66.918580</td>\n",
       "      <td>2.607040e+07</td>\n",
       "      <td>1410.919321</td>\n",
       "      <td>3.682345e+06</td>\n",
       "      <td>76.789203</td>\n",
       "      <td>4.046072e+06</td>\n",
       "      <td>910.277086</td>\n",
       "      <td>1.089995e+07</td>\n",
       "      <td>1.190543e+05</td>\n",
       "    </tr>\n",
       "    <tr>\n",
       "      <th>min</th>\n",
       "      <td>0.000000e+00</td>\n",
       "      <td>57.000000</td>\n",
       "      <td>-1.025000e+05</td>\n",
       "      <td>0.000000e+00</td>\n",
       "      <td>0.000000e+00</td>\n",
       "      <td>0.000000e+00</td>\n",
       "      <td>-7.576788e+06</td>\n",
       "      <td>-2.799289e+07</td>\n",
       "      <td>-4.409300e+04</td>\n",
       "      <td>0.000000e+00</td>\n",
       "      <td>0.000000</td>\n",
       "      <td>0.000000e+00</td>\n",
       "      <td>12.000000</td>\n",
       "      <td>0.000000e+00</td>\n",
       "      <td>0.000000</td>\n",
       "      <td>0.000000e+00</td>\n",
       "      <td>2.000000</td>\n",
       "      <td>-2.604490e+06</td>\n",
       "      <td>0.000000e+00</td>\n",
       "    </tr>\n",
       "    <tr>\n",
       "      <th>25%</th>\n",
       "      <td>0.000000e+00</td>\n",
       "      <td>904.250000</td>\n",
       "      <td>0.000000e+00</td>\n",
       "      <td>9.394475e+04</td>\n",
       "      <td>0.000000e+00</td>\n",
       "      <td>0.000000e+00</td>\n",
       "      <td>0.000000e+00</td>\n",
       "      <td>-3.792600e+04</td>\n",
       "      <td>2.288695e+05</td>\n",
       "      <td>0.000000e+00</td>\n",
       "      <td>25.750000</td>\n",
       "      <td>0.000000e+00</td>\n",
       "      <td>36.000000</td>\n",
       "      <td>0.000000e+00</td>\n",
       "      <td>6.000000</td>\n",
       "      <td>0.000000e+00</td>\n",
       "      <td>591.500000</td>\n",
       "      <td>8.115000e+03</td>\n",
       "      <td>0.000000e+00</td>\n",
       "    </tr>\n",
       "    <tr>\n",
       "      <th>50%</th>\n",
       "      <td>2.105960e+05</td>\n",
       "      <td>2007.111111</td>\n",
       "      <td>0.000000e+00</td>\n",
       "      <td>9.413595e+05</td>\n",
       "      <td>0.000000e+00</td>\n",
       "      <td>3.000000e+05</td>\n",
       "      <td>0.000000e+00</td>\n",
       "      <td>0.000000e+00</td>\n",
       "      <td>9.659550e+05</td>\n",
       "      <td>2.018200e+04</td>\n",
       "      <td>58.500000</td>\n",
       "      <td>6.082935e+05</td>\n",
       "      <td>392.178571</td>\n",
       "      <td>9.595000e+02</td>\n",
       "      <td>36.277778</td>\n",
       "      <td>0.000000e+00</td>\n",
       "      <td>1058.527778</td>\n",
       "      <td>3.605280e+05</td>\n",
       "      <td>0.000000e+00</td>\n",
       "    </tr>\n",
       "    <tr>\n",
       "      <th>75%</th>\n",
       "      <td>2.708505e+05</td>\n",
       "      <td>2007.111111</td>\n",
       "      <td>9.684500e+03</td>\n",
       "      <td>1.968287e+06</td>\n",
       "      <td>0.000000e+00</td>\n",
       "      <td>8.000000e+05</td>\n",
       "      <td>0.000000e+00</td>\n",
       "      <td>0.000000e+00</td>\n",
       "      <td>2.319991e+06</td>\n",
       "      <td>5.374075e+04</td>\n",
       "      <td>58.500000</td>\n",
       "      <td>1.714221e+06</td>\n",
       "      <td>668.763889</td>\n",
       "      <td>1.506065e+05</td>\n",
       "      <td>36.277778</td>\n",
       "      <td>3.750648e+05</td>\n",
       "      <td>1117.500000</td>\n",
       "      <td>8.145280e+05</td>\n",
       "      <td>0.000000e+00</td>\n",
       "    </tr>\n",
       "    <tr>\n",
       "      <th>max</th>\n",
       "      <td>2.670423e+07</td>\n",
       "      <td>15149.000000</td>\n",
       "      <td>3.208340e+07</td>\n",
       "      <td>3.098866e+08</td>\n",
       "      <td>8.392500e+07</td>\n",
       "      <td>9.734362e+07</td>\n",
       "      <td>1.545629e+07</td>\n",
       "      <td>0.000000e+00</td>\n",
       "      <td>4.345095e+08</td>\n",
       "      <td>5.235198e+06</td>\n",
       "      <td>528.000000</td>\n",
       "      <td>3.117640e+08</td>\n",
       "      <td>14368.000000</td>\n",
       "      <td>4.266759e+07</td>\n",
       "      <td>609.000000</td>\n",
       "      <td>4.852193e+07</td>\n",
       "      <td>5521.000000</td>\n",
       "      <td>1.303223e+08</td>\n",
       "      <td>1.398517e+06</td>\n",
       "    </tr>\n",
       "  </tbody>\n",
       "</table>\n",
       "</div>"
      ],
      "text/plain": [
       "             salary   to_messages  deferral_payments  total_payments  \\\n",
       "count  1.460000e+02    146.000000       1.460000e+02    1.460000e+02   \n",
       "mean   3.658114e+05   2057.662970       4.387965e+05    4.350622e+06   \n",
       "std    2.203575e+06   1978.612966       2.741325e+06    2.693448e+07   \n",
       "min    0.000000e+00     57.000000      -1.025000e+05    0.000000e+00   \n",
       "25%    0.000000e+00    904.250000       0.000000e+00    9.394475e+04   \n",
       "50%    2.105960e+05   2007.111111       0.000000e+00    9.413595e+05   \n",
       "75%    2.708505e+05   2007.111111       9.684500e+03    1.968287e+06   \n",
       "max    2.670423e+07  15149.000000       3.208340e+07    3.098866e+08   \n",
       "\n",
       "       loan_advances         bonus  restricted_stock_deferred  \\\n",
       "count   1.460000e+02  1.460000e+02               1.460000e+02   \n",
       "mean    1.149658e+06  1.333474e+06               2.051637e+04   \n",
       "std     9.649342e+06  8.094029e+06               1.439661e+06   \n",
       "min     0.000000e+00  0.000000e+00              -7.576788e+06   \n",
       "25%     0.000000e+00  0.000000e+00               0.000000e+00   \n",
       "50%     0.000000e+00  3.000000e+05               0.000000e+00   \n",
       "75%     0.000000e+00  8.000000e+05               0.000000e+00   \n",
       "max     8.392500e+07  9.734362e+07               1.545629e+07   \n",
       "\n",
       "       deferred_income  total_stock_value      expenses  \\\n",
       "count     1.460000e+02       1.460000e+02  1.460000e+02   \n",
       "mean     -3.827622e+05       5.846018e+06  7.074827e+04   \n",
       "std       2.378250e+06       3.624681e+07  4.327163e+05   \n",
       "min      -2.799289e+07      -4.409300e+04  0.000000e+00   \n",
       "25%      -3.792600e+04       2.288695e+05  0.000000e+00   \n",
       "50%       0.000000e+00       9.659550e+05  2.018200e+04   \n",
       "75%       0.000000e+00       2.319991e+06  5.374075e+04   \n",
       "max       0.000000e+00       4.345095e+08  5.235198e+06   \n",
       "\n",
       "       from_poi_to_this_person  exercised_stock_options  from_messages  \\\n",
       "count               146.000000             1.460000e+02     146.000000   \n",
       "mean                 63.343444             4.182736e+06     623.343879   \n",
       "std                  66.918580             2.607040e+07    1410.919321   \n",
       "min                   0.000000             0.000000e+00      12.000000   \n",
       "25%                  25.750000             0.000000e+00      36.000000   \n",
       "50%                  58.500000             6.082935e+05     392.178571   \n",
       "75%                  58.500000             1.714221e+06     668.763889   \n",
       "max                 528.000000             3.117640e+08   14368.000000   \n",
       "\n",
       "              other  from_this_person_to_poi  long_term_incentive  \\\n",
       "count  1.460000e+02               146.000000         1.460000e+02   \n",
       "mean   5.854318e+05                40.030224         6.646839e+05   \n",
       "std    3.682345e+06                76.789203         4.046072e+06   \n",
       "min    0.000000e+00                 0.000000         0.000000e+00   \n",
       "25%    0.000000e+00                 6.000000         0.000000e+00   \n",
       "50%    9.595000e+02                36.277778         0.000000e+00   \n",
       "75%    1.506065e+05                36.277778         3.750648e+05   \n",
       "max    4.266759e+07               609.000000         4.852193e+07   \n",
       "\n",
       "       shared_receipt_with_poi  restricted_stock  director_fees  \n",
       "count               146.000000      1.460000e+02   1.460000e+02  \n",
       "mean               1147.846271      1.749257e+06   1.942249e+04  \n",
       "std                 910.277086      1.089995e+07   1.190543e+05  \n",
       "min                   2.000000     -2.604490e+06   0.000000e+00  \n",
       "25%                 591.500000      8.115000e+03   0.000000e+00  \n",
       "50%                1058.527778      3.605280e+05   0.000000e+00  \n",
       "75%                1117.500000      8.145280e+05   0.000000e+00  \n",
       "max                5521.000000      1.303223e+08   1.398517e+06  "
      ]
     },
     "execution_count": 11,
     "metadata": {},
     "output_type": "execute_result"
    }
   ],
   "source": [
    "df.describe()"
   ]
  },
  {
   "cell_type": "markdown",
   "metadata": {},
   "source": [
    "The max seems very high for all the values"
   ]
  },
  {
   "cell_type": "code",
   "execution_count": 12,
   "metadata": {},
   "outputs": [
    {
     "data": {
      "text/plain": [
       "salary                                     TOTAL\n",
       "to_messages                    SHAPIRO RICHARD S\n",
       "deferral_payments                          TOTAL\n",
       "total_payments                             TOTAL\n",
       "loan_advances                              TOTAL\n",
       "bonus                                      TOTAL\n",
       "restricted_stock_deferred       BHATNAGAR SANJAY\n",
       "deferred_income                    BADUM JAMES P\n",
       "total_stock_value                          TOTAL\n",
       "expenses                                   TOTAL\n",
       "from_poi_to_this_person          LAVORATO JOHN J\n",
       "exercised_stock_options                    TOTAL\n",
       "from_messages                KAMINSKI WINCENTY J\n",
       "other                                      TOTAL\n",
       "from_this_person_to_poi         DELAINEY DAVID W\n",
       "long_term_incentive                        TOTAL\n",
       "shared_receipt_with_poi         BELDEN TIMOTHY N\n",
       "restricted_stock                           TOTAL\n",
       "director_fees                              TOTAL\n",
       "dtype: object"
      ]
     },
     "execution_count": 12,
     "metadata": {},
     "output_type": "execute_result"
    }
   ],
   "source": [
    "# Finding the max index for each feature\n",
    "df.drop('poi', axis = 1).idxmax()"
   ]
  },
  {
   "cell_type": "markdown",
   "metadata": {},
   "source": [
    "It turns out there was a `TOTAL`row, this will definately skew any models so I'll remove it:"
   ]
  },
  {
   "cell_type": "code",
   "execution_count": 13,
   "metadata": {},
   "outputs": [],
   "source": [
    "df.drop('TOTAL', inplace = True)"
   ]
  },
  {
   "cell_type": "markdown",
   "metadata": {},
   "source": [
    "Another thing I noticed was that the minimum value in `restricted_stock` was a negative value where all of the values should be positive. A quick check to try and find the problem would be to see if each row sums to their `total_payments` and `total_stock_value` columns:"
   ]
  },
  {
   "cell_type": "code",
   "execution_count": 14,
   "metadata": {},
   "outputs": [
    {
     "data": {
      "text/html": [
       "<div>\n",
       "<style scoped>\n",
       "    .dataframe tbody tr th:only-of-type {\n",
       "        vertical-align: middle;\n",
       "    }\n",
       "\n",
       "    .dataframe tbody tr th {\n",
       "        vertical-align: top;\n",
       "    }\n",
       "\n",
       "    .dataframe thead th {\n",
       "        text-align: right;\n",
       "    }\n",
       "</style>\n",
       "<table border=\"1\" class=\"dataframe\">\n",
       "  <thead>\n",
       "    <tr style=\"text-align: right;\">\n",
       "      <th></th>\n",
       "      <th>salary</th>\n",
       "      <th>to_messages</th>\n",
       "      <th>deferral_payments</th>\n",
       "      <th>total_payments</th>\n",
       "      <th>loan_advances</th>\n",
       "      <th>bonus</th>\n",
       "      <th>restricted_stock_deferred</th>\n",
       "      <th>deferred_income</th>\n",
       "      <th>total_stock_value</th>\n",
       "      <th>expenses</th>\n",
       "      <th>from_poi_to_this_person</th>\n",
       "      <th>exercised_stock_options</th>\n",
       "      <th>from_messages</th>\n",
       "      <th>other</th>\n",
       "      <th>from_this_person_to_poi</th>\n",
       "      <th>poi</th>\n",
       "      <th>long_term_incentive</th>\n",
       "      <th>shared_receipt_with_poi</th>\n",
       "      <th>restricted_stock</th>\n",
       "      <th>director_fees</th>\n",
       "    </tr>\n",
       "  </thead>\n",
       "  <tbody>\n",
       "    <tr>\n",
       "      <th>BELFER ROBERT</th>\n",
       "      <td>0.0</td>\n",
       "      <td>2007.111111</td>\n",
       "      <td>-102500.0</td>\n",
       "      <td>102500.0</td>\n",
       "      <td>0.0</td>\n",
       "      <td>0.0</td>\n",
       "      <td>44093.0</td>\n",
       "      <td>0.0</td>\n",
       "      <td>-44093.0</td>\n",
       "      <td>0.0</td>\n",
       "      <td>58.5</td>\n",
       "      <td>3285.0</td>\n",
       "      <td>668.763889</td>\n",
       "      <td>0.0</td>\n",
       "      <td>36.277778</td>\n",
       "      <td>False</td>\n",
       "      <td>0.0</td>\n",
       "      <td>1058.527778</td>\n",
       "      <td>0.0</td>\n",
       "      <td>3285.0</td>\n",
       "    </tr>\n",
       "    <tr>\n",
       "      <th>BHATNAGAR SANJAY</th>\n",
       "      <td>0.0</td>\n",
       "      <td>523.000000</td>\n",
       "      <td>0.0</td>\n",
       "      <td>15456290.0</td>\n",
       "      <td>0.0</td>\n",
       "      <td>0.0</td>\n",
       "      <td>15456290.0</td>\n",
       "      <td>0.0</td>\n",
       "      <td>0.0</td>\n",
       "      <td>0.0</td>\n",
       "      <td>0.0</td>\n",
       "      <td>2604490.0</td>\n",
       "      <td>29.000000</td>\n",
       "      <td>137864.0</td>\n",
       "      <td>1.000000</td>\n",
       "      <td>False</td>\n",
       "      <td>0.0</td>\n",
       "      <td>463.000000</td>\n",
       "      <td>-2604490.0</td>\n",
       "      <td>137864.0</td>\n",
       "    </tr>\n",
       "  </tbody>\n",
       "</table>\n",
       "</div>"
      ],
      "text/plain": [
       "                  salary  to_messages  deferral_payments  total_payments  \\\n",
       "BELFER ROBERT        0.0  2007.111111          -102500.0        102500.0   \n",
       "BHATNAGAR SANJAY     0.0   523.000000                0.0      15456290.0   \n",
       "\n",
       "                  loan_advances  bonus  restricted_stock_deferred  \\\n",
       "BELFER ROBERT               0.0    0.0                    44093.0   \n",
       "BHATNAGAR SANJAY            0.0    0.0                 15456290.0   \n",
       "\n",
       "                  deferred_income  total_stock_value  expenses  \\\n",
       "BELFER ROBERT                 0.0           -44093.0       0.0   \n",
       "BHATNAGAR SANJAY              0.0                0.0       0.0   \n",
       "\n",
       "                  from_poi_to_this_person  exercised_stock_options  \\\n",
       "BELFER ROBERT                        58.5                   3285.0   \n",
       "BHATNAGAR SANJAY                      0.0                2604490.0   \n",
       "\n",
       "                  from_messages     other  from_this_person_to_poi    poi  \\\n",
       "BELFER ROBERT        668.763889       0.0                36.277778  False   \n",
       "BHATNAGAR SANJAY      29.000000  137864.0                 1.000000  False   \n",
       "\n",
       "                  long_term_incentive  shared_receipt_with_poi  \\\n",
       "BELFER ROBERT                     0.0              1058.527778   \n",
       "BHATNAGAR SANJAY                  0.0               463.000000   \n",
       "\n",
       "                  restricted_stock  director_fees  \n",
       "BELFER ROBERT                  0.0         3285.0  \n",
       "BHATNAGAR SANJAY        -2604490.0       137864.0  "
      ]
     },
     "execution_count": 14,
     "metadata": {},
     "output_type": "execute_result"
    }
   ],
   "source": [
    "f_features = financial_features[:-1]\n",
    "f_features.remove('total_payments')\n",
    "df[df[f_features].sum(axis = 1) != df[['total_payments', 'total_stock_value']].sum(axis = 1)]"
   ]
  },
  {
   "cell_type": "markdown",
   "metadata": {},
   "source": [
    "It appears that the financial features for ‘BELFER ROBERT’ had been shifted accidentally one place to the right and those for ‘BHANTNAGAR SANJAY’ had been shifted to the right. Lets fix that:"
   ]
  },
  {
   "cell_type": "code",
   "execution_count": 15,
   "metadata": {},
   "outputs": [],
   "source": [
    "# Fix incorrectly inputted data\n",
    "BELFER_fix = df.loc['BELFER ROBERT'][financial_features].shift(-1)\n",
    "BHATNAGAR_fix = df.loc['BHATNAGAR SANJAY'][financial_features].shift(1)\n",
    "for financial_feature in financial_features:\n",
    "    df.at['BELFER ROBERT',financial_feature] = BELFER_fix[financial_feature]\n",
    "    df.at['BHATNAGAR SANJAY', financial_feature] = BHATNAGAR_fix[financial_feature]"
   ]
  },
  {
   "cell_type": "markdown",
   "metadata": {},
   "source": [
    "## Scaling\n",
    "\n",
    "The Enron corporation included some extremely high paid induviduals with far higher bonuses, salary and stock options than the rest. Whilst it would be good to label all the employees with big bonuses as *poi* this is not necessarily the case and we will want our model to reflect that."
   ]
  },
  {
   "cell_type": "code",
   "execution_count": 61,
   "metadata": {},
   "outputs": [
    {
     "data": {
      "text/plain": [
       "Text(0, 0.5, 'Dollars (US)')"
      ]
     },
     "execution_count": 61,
     "metadata": {},
     "output_type": "execute_result"
    },
    {
     "data": {
      "image/png": "[encoded data removed]",
      "text/plain": [
       "<Figure size 1152x576 with 1 Axes>"
      ]
     },
     "metadata": {
      "needs_background": "light"
     },
     "output_type": "display_data"
    }
   ],
   "source": [
    "# Plot some of the highest variance data\n",
    "ax = df[df.var().sort_values(ascending = False).index[:4]].plot(figsize = (16,8))\n",
    "ax.set_xlabel(\"Employees\")\n",
    "ax.set_ylabel(\"Dollars (US)\")"
   ]
  },
  {
   "cell_type": "markdown",
   "metadata": {},
   "source": [
    "As we can see there is a large disparity in "
   ]
  },
  {
   "cell_type": "code",
   "execution_count": 86,
   "metadata": {},
   "outputs": [
    {
     "data": {
      "text/plain": [
       "<matplotlib.axes._subplots.AxesSubplot at 0x16b60cb8048>"
      ]
     },
     "execution_count": 86,
     "metadata": {},
     "output_type": "execute_result"
    },
    {
     "data": {
      "image/png": "[encoded data removed]",
      "text/plain": [
       "<Figure size 720x432 with 1 Axes>"
      ]
     },
     "metadata": {
      "needs_background": "light"
     },
     "output_type": "display_data"
    }
   ],
   "source": [
    "df.plot('total_payments', 'total_stock_value',kind = 'scatter', c = df['poi'].apply(lambda x: 'red' if x else 'blue'), figsize = (10,6))"
   ]
  },
  {
   "cell_type": "code",
   "execution_count": 87,
   "metadata": {},
   "outputs": [],
   "source": [
    "from sklearn.preprocessing import StandardScaler, MinMaxScaler, PowerTransformer"
   ]
  },
  {
   "cell_type": "code",
   "execution_count": 93,
   "metadata": {},
   "outputs": [
    {
     "data": {
      "text/plain": [
       "Index(['salary', 'to_messages', 'deferral_payments', 'total_payments',\n",
       "       'loan_advances', 'bonus', 'restricted_stock_deferred',\n",
       "       'deferred_income', 'total_stock_value', 'expenses',\n",
       "       'from_poi_to_this_person', 'exercised_stock_options', 'from_messages',\n",
       "       'other', 'from_this_person_to_poi', 'poi', 'long_term_incentive',\n",
       "       'shared_receipt_with_poi', 'restricted_stock', 'director_fees'],\n",
       "      dtype='object')"
      ]
     },
     "execution_count": 93,
     "metadata": {},
     "output_type": "execute_result"
    }
   ],
   "source": []
  },
  {
   "cell_type": "code",
   "execution_count": 103,
   "metadata": {},
   "outputs": [],
   "source": [
    "df_data = df.drop('poi', axis = 1)\n",
    "df_standard = pd.DataFrame(StandardScaler().fit_transform(df_data.values), columns=df_data.columns, index=df_data.index)\n",
    "df_standard['poi'] = df['poi']\n",
    "\n",
    "df_minmax = pd.DataFrame(MinMaxScaler().fit_transform(df_data.values), columns=df_data.columns, index=df_data.index)\n",
    "df_minmax['poi'] = df['poi']\n",
    "\n",
    "df_power = pd.DataFrame(PowerTransformer().fit_transform(df_data.values), columns=df_data.columns, index=df_data.index)\n",
    "df_power['poi'] = df['poi']"
   ]
  },
  {
   "cell_type": "code",
   "execution_count": 105,
   "metadata": {},
   "outputs": [
    {
     "data": {
      "text/plain": [
       "<matplotlib.axes._subplots.AxesSubplot at 0x16b633d7cc0>"
      ]
     },
     "execution_count": 105,
     "metadata": {},
     "output_type": "execute_result"
    },
    {
     "data": {
      "image/png": "[encoded data removed]",
      "text/plain": [
       "<Figure size 720x432 with 1 Axes>"
      ]
     },
     "metadata": {
      "needs_background": "light"
     },
     "output_type": "display_data"
    }
   ],
   "source": [
    "df_power.plot('total_payments', 'total_stock_value',kind = 'scatter', c = df_standard['poi'].apply(lambda x: 'red' if x else 'blue'), figsize = (10,6))"
   ]
  },
  {
   "cell_type": "markdown",
   "metadata": {},
   "source": [
    "## Initial performance testing\n",
    "\n",
    "I'll start the initial testing with a variety of classifiers on all the features in the dataset to find a baseline performance before any feature selection and fine tuning is made. I'll set the number of clusters for the K Means classifier to 2, however, as I aim to separate the poi from the others.\n",
    "If at this point I ran a classifier that identified everyone as not a poi, then it would still have an accuracy score of 87.7%, hence its insufficient to test on accuracy alone.  I'll test the classifiers based on their accuracy, precision, recall and F1 score.  \n",
    "\n",
    "First I'll have to split the data into training and tested batches, I'm going to use Sci-Kit learn's `\n"
   ]
  },
  {
   "cell_type": "code",
   "execution_count": null,
   "metadata": {},
   "outputs": [],
   "source": []
  }
 ],
 "metadata": {
  "kernelspec": {
   "display_name": "Python 3",
   "language": "python",
   "name": "python3"
  },
  "language_info": {
   "codemirror_mode": {
    "name": "ipython",
    "version": 3
   },
   "file_extension": ".py",
   "mimetype": "text/x-python",
   "name": "python",
   "nbconvert_exporter": "python",
   "pygments_lexer": "ipython3",
   "version": "3.7.1"
  }
 },
 "nbformat": 4,
 "nbformat_minor": 2
}
