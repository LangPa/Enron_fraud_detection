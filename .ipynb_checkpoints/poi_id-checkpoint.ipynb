{
 "cells": [
  {
   "cell_type": "markdown",
   "metadata": {},
   "source": [
    "# Analysing the Enron Dataset with machine learning\n",
    "\n",
    "This project was done as the part of Udacity’s Introduction to Machine Learning course. I completed this course in January 2020, all the original data may be found [here](https://github.com/udacity/ud120-projects).\n",
    "The data used for the analysis was provided by Udacity, the complete Enron dataset can be found and downloaded online."
   ]
  },
  {
   "cell_type": "markdown",
   "metadata": {},
   "source": [
    "## Introduction\n",
    "The Enron scandal was a series of events that ultimately led to the bankruptcy of U.S. energy, commodities, and services company Enron Corporation and the dissolution of Arthur Andersen LLP, which had been one of the largest auditing and accounting companies in the world. It resulted in 4000 employees losing their jobs and far more losing their saving plans whilst the top executives pocketed millions.\n",
    "The Enron dataset is unique in that it is the largest publicly available mass collection of real emails, allowing interesting case studies into the collapse of the company.\n",
    "\n",
    "Using the Enron dataset I will be performing supervised learning techniques to see if the conspirators (identified as persons of interest or poi) in the scandal can be identified via their financial and communication patterns within the company.\n"
   ]
  },
  {
   "cell_type": "code",
   "execution_count": 1,
   "metadata": {},
   "outputs": [],
   "source": [
    "# Import necessary tools\n",
    "\n",
    "import sys\n",
    "import pickle\n",
    "import matplotlib.pyplot\n",
    "import pandas as pd\n",
    "import numpy as np"
   ]
  },
  {
   "cell_type": "code",
   "execution_count": 2,
   "metadata": {},
   "outputs": [],
   "source": [
    "# Loading the data\n",
    "with open(\"final_project_dataset_unix.pkl\", \"rb\") as data_file:\n",
    "    data_dict = pickle.load(data_file)"
   ]
  },
  {
   "cell_type": "code",
   "execution_count": 3,
   "metadata": {},
   "outputs": [],
   "source": [
    "# Putting the data into a Pandas Dataframe\n",
    "df = pd.DataFrame.from_dict(data_dict, 'index').replace('NaN', np.NaN)"
   ]
  },
  {
   "cell_type": "markdown",
   "metadata": {},
   "source": [
    "## Data cleaning and outlier investigation\n",
    "\n",
    "My first step was to transfer the data into a Pandas DataFrame in order to perform more scrutiny.\n",
    "Now I'll inspect the data to get a better understanding and to see if any errors can be spotted right away."
   ]
  },
  {
   "cell_type": "code",
   "execution_count": 4,
   "metadata": {},
   "outputs": [
    {
     "name": "stdout",
     "output_type": "stream",
     "text": [
      "<class 'pandas.core.frame.DataFrame'>\n",
      "Index: 146 entries, ALLEN PHILLIP K to YEAP SOON\n",
      "Data columns (total 21 columns):\n",
      "salary                       95 non-null float64\n",
      "to_messages                  86 non-null float64\n",
      "deferral_payments            39 non-null float64\n",
      "total_payments               125 non-null float64\n",
      "loan_advances                4 non-null float64\n",
      "bonus                        82 non-null float64\n",
      "email_address                111 non-null object\n",
      "restricted_stock_deferred    18 non-null float64\n",
      "deferred_income              49 non-null float64\n",
      "total_stock_value            126 non-null float64\n",
      "expenses                     95 non-null float64\n",
      "from_poi_to_this_person      86 non-null float64\n",
      "exercised_stock_options      102 non-null float64\n",
      "from_messages                86 non-null float64\n",
      "other                        93 non-null float64\n",
      "from_this_person_to_poi      86 non-null float64\n",
      "poi                          146 non-null bool\n",
      "long_term_incentive          66 non-null float64\n",
      "shared_receipt_with_poi      86 non-null float64\n",
      "restricted_stock             110 non-null float64\n",
      "director_fees                17 non-null float64\n",
      "dtypes: bool(1), float64(19), object(1)\n",
      "memory usage: 24.1+ KB\n"
     ]
    }
   ],
   "source": [
    "df.info()"
   ]
  },
  {
   "cell_type": "markdown",
   "metadata": {},
   "source": [
    "The dataframe contains 146 entries containing both financial and email information about 146 induviduals, this is quite a small dataset and it also has an alarming amount of missing values. According to the [original documentation](https://github.com/udacity/ud120-projects/blob/master/final_project/enron61702insiderpay.pdf) for the financial features the `NaN` values can be replaced with 0s."
   ]
  },
  {
   "cell_type": "code",
   "execution_count": 5,
   "metadata": {},
   "outputs": [],
   "source": [
    "# Defining financial and email features\n",
    "financial_features = ['salary', 'bonus', 'long_term_incentive','deferred_income', 'deferral_payments','loan_advances', 'other','expenses', 'director_fees', 'total_payments', 'exercised_stock_options','restricted_stock','restricted_stock_deferred',  'total_stock_value'] \n",
    "email_features = ['email_address', 'to_messages', 'from_poi_to_this_person', 'from_messages', 'from_this_person_to_poi', 'shared_receipt_with_poi']"
   ]
  },
  {
   "cell_type": "code",
   "execution_count": 6,
   "metadata": {},
   "outputs": [
    {
     "name": "stdout",
     "output_type": "stream",
     "text": [
      "<class 'pandas.core.frame.DataFrame'>\n",
      "Index: 146 entries, ALLEN PHILLIP K to YEAP SOON\n",
      "Data columns (total 21 columns):\n",
      "salary                       146 non-null float64\n",
      "to_messages                  86 non-null float64\n",
      "deferral_payments            146 non-null float64\n",
      "total_payments               146 non-null float64\n",
      "loan_advances                146 non-null float64\n",
      "bonus                        146 non-null float64\n",
      "email_address                111 non-null object\n",
      "restricted_stock_deferred    146 non-null float64\n",
      "deferred_income              146 non-null float64\n",
      "total_stock_value            146 non-null float64\n",
      "expenses                     146 non-null float64\n",
      "from_poi_to_this_person      86 non-null float64\n",
      "exercised_stock_options      146 non-null float64\n",
      "from_messages                86 non-null float64\n",
      "other                        146 non-null float64\n",
      "from_this_person_to_poi      86 non-null float64\n",
      "poi                          146 non-null bool\n",
      "long_term_incentive          146 non-null float64\n",
      "shared_receipt_with_poi      86 non-null float64\n",
      "restricted_stock             146 non-null float64\n",
      "director_fees                146 non-null float64\n",
      "dtypes: bool(1), float64(19), object(1)\n",
      "memory usage: 24.1+ KB\n"
     ]
    }
   ],
   "source": [
    "df.update(df[financial_features].fillna(0))\n",
    "df.info()"
   ]
  },
  {
   "cell_type": "markdown",
   "metadata": {},
   "source": [
    "This is much better but it appears that we only have the email information for 86 of the induviduals, if we were to drop these we would lose 40% of the data shrinking an already small dataset. "
   ]
  },
  {
   "cell_type": "code",
   "execution_count": 7,
   "metadata": {},
   "outputs": [
    {
     "data": {
      "text/html": [
       "<div>\n",
       "<style scoped>\n",
       "    .dataframe tbody tr th:only-of-type {\n",
       "        vertical-align: middle;\n",
       "    }\n",
       "\n",
       "    .dataframe tbody tr th {\n",
       "        vertical-align: top;\n",
       "    }\n",
       "\n",
       "    .dataframe thead th {\n",
       "        text-align: right;\n",
       "    }\n",
       "</style>\n",
       "<table border=\"1\" class=\"dataframe\">\n",
       "  <thead>\n",
       "    <tr style=\"text-align: right;\">\n",
       "      <th></th>\n",
       "      <th>to_messages</th>\n",
       "      <th>from_poi_to_this_person</th>\n",
       "      <th>from_messages</th>\n",
       "      <th>from_this_person_to_poi</th>\n",
       "      <th>shared_receipt_with_poi</th>\n",
       "    </tr>\n",
       "    <tr>\n",
       "      <th>poi</th>\n",
       "      <th></th>\n",
       "      <th></th>\n",
       "      <th></th>\n",
       "      <th></th>\n",
       "      <th></th>\n",
       "    </tr>\n",
       "  </thead>\n",
       "  <tbody>\n",
       "    <tr>\n",
       "      <th>False</th>\n",
       "      <td>2007.111111</td>\n",
       "      <td>58.500000</td>\n",
       "      <td>668.763889</td>\n",
       "      <td>36.277778</td>\n",
       "      <td>1058.527778</td>\n",
       "    </tr>\n",
       "    <tr>\n",
       "      <th>True</th>\n",
       "      <td>2417.142857</td>\n",
       "      <td>97.785714</td>\n",
       "      <td>300.357143</td>\n",
       "      <td>66.714286</td>\n",
       "      <td>1783.000000</td>\n",
       "    </tr>\n",
       "  </tbody>\n",
       "</table>\n",
       "</div>"
      ],
      "text/plain": [
       "       to_messages  from_poi_to_this_person  from_messages  \\\n",
       "poi                                                          \n",
       "False  2007.111111                58.500000     668.763889   \n",
       "True   2417.142857                97.785714     300.357143   \n",
       "\n",
       "       from_this_person_to_poi  shared_receipt_with_poi  \n",
       "poi                                                      \n",
       "False                36.277778              1058.527778  \n",
       "True                 66.714286              1783.000000  "
      ]
     },
     "execution_count": 7,
     "metadata": {},
     "output_type": "execute_result"
    }
   ],
   "source": [
    "df.groupby(['poi'])[email_features].mean()"
   ]
  },
  {
   "cell_type": "markdown",
   "metadata": {},
   "source": [
    "From above I saw that there was a large disparity in the email features betweent the *poi* and non-*poi*.\n",
    "To best preserve the data I'll replace the `NaN` values in the email features with the mean values grouped by whether or not they are a *poi*. "
   ]
  },
  {
   "cell_type": "code",
   "execution_count": 8,
   "metadata": {},
   "outputs": [],
   "source": [
    "# fill missing email data with respected averages \n",
    "df_mean = df.groupby('poi').mean()\n",
    "mean_poi = df[df['poi'] == True].fillna(value = df_mean.loc[True])\n",
    "mean_not_poi = df[df['poi'] == False].fillna(value = df_mean.loc[False])\n",
    "df.update(mean_poi)\n",
    "df.update(mean_not_poi)\n",
    "df['poi'] = df['poi'].astype('bool')"
   ]
  },
  {
   "cell_type": "code",
   "execution_count": 9,
   "metadata": {},
   "outputs": [
    {
     "name": "stdout",
     "output_type": "stream",
     "text": [
      "<class 'pandas.core.frame.DataFrame'>\n",
      "Index: 146 entries, ALLEN PHILLIP K to YEAP SOON\n",
      "Data columns (total 21 columns):\n",
      "salary                       146 non-null float64\n",
      "to_messages                  146 non-null float64\n",
      "deferral_payments            146 non-null float64\n",
      "total_payments               146 non-null float64\n",
      "loan_advances                146 non-null float64\n",
      "bonus                        146 non-null float64\n",
      "email_address                111 non-null object\n",
      "restricted_stock_deferred    146 non-null float64\n",
      "deferred_income              146 non-null float64\n",
      "total_stock_value            146 non-null float64\n",
      "expenses                     146 non-null float64\n",
      "from_poi_to_this_person      146 non-null float64\n",
      "exercised_stock_options      146 non-null float64\n",
      "from_messages                146 non-null float64\n",
      "other                        146 non-null float64\n",
      "from_this_person_to_poi      146 non-null float64\n",
      "poi                          146 non-null bool\n",
      "long_term_incentive          146 non-null float64\n",
      "shared_receipt_with_poi      146 non-null float64\n",
      "restricted_stock             146 non-null float64\n",
      "director_fees                146 non-null float64\n",
      "dtypes: bool(1), float64(19), object(1)\n",
      "memory usage: 24.1+ KB\n"
     ]
    }
   ],
   "source": [
    "df.info()"
   ]
  },
  {
   "cell_type": "markdown",
   "metadata": {},
   "source": [
    "Finally we have a complete dataset, aside from some missing email addresses that will not be used."
   ]
  },
  {
   "cell_type": "code",
   "execution_count": 10,
   "metadata": {},
   "outputs": [],
   "source": [
    "df.drop('email_address', axis = 1, inplace = True)"
   ]
  },
  {
   "cell_type": "markdown",
   "metadata": {},
   "source": [
    "Lets have a look at some of the stats:"
   ]
  },
  {
   "cell_type": "code",
   "execution_count": 11,
   "metadata": {},
   "outputs": [
    {
     "data": {
      "text/html": [
       "<div>\n",
       "<style scoped>\n",
       "    .dataframe tbody tr th:only-of-type {\n",
       "        vertical-align: middle;\n",
       "    }\n",
       "\n",
       "    .dataframe tbody tr th {\n",
       "        vertical-align: top;\n",
       "    }\n",
       "\n",
       "    .dataframe thead th {\n",
       "        text-align: right;\n",
       "    }\n",
       "</style>\n",
       "<table border=\"1\" class=\"dataframe\">\n",
       "  <thead>\n",
       "    <tr style=\"text-align: right;\">\n",
       "      <th></th>\n",
       "      <th>salary</th>\n",
       "      <th>to_messages</th>\n",
       "      <th>deferral_payments</th>\n",
       "      <th>total_payments</th>\n",
       "      <th>loan_advances</th>\n",
       "      <th>bonus</th>\n",
       "      <th>restricted_stock_deferred</th>\n",
       "      <th>deferred_income</th>\n",
       "      <th>total_stock_value</th>\n",
       "      <th>expenses</th>\n",
       "      <th>from_poi_to_this_person</th>\n",
       "      <th>exercised_stock_options</th>\n",
       "      <th>from_messages</th>\n",
       "      <th>other</th>\n",
       "      <th>from_this_person_to_poi</th>\n",
       "      <th>long_term_incentive</th>\n",
       "      <th>shared_receipt_with_poi</th>\n",
       "      <th>restricted_stock</th>\n",
       "      <th>director_fees</th>\n",
       "    </tr>\n",
       "  </thead>\n",
       "  <tbody>\n",
       "    <tr>\n",
       "      <th>count</th>\n",
       "      <td>1.460000e+02</td>\n",
       "      <td>146.000000</td>\n",
       "      <td>1.460000e+02</td>\n",
       "      <td>1.460000e+02</td>\n",
       "      <td>1.460000e+02</td>\n",
       "      <td>1.460000e+02</td>\n",
       "      <td>1.460000e+02</td>\n",
       "      <td>1.460000e+02</td>\n",
       "      <td>1.460000e+02</td>\n",
       "      <td>1.460000e+02</td>\n",
       "      <td>146.000000</td>\n",
       "      <td>1.460000e+02</td>\n",
       "      <td>146.000000</td>\n",
       "      <td>1.460000e+02</td>\n",
       "      <td>146.000000</td>\n",
       "      <td>1.460000e+02</td>\n",
       "      <td>146.000000</td>\n",
       "      <td>1.460000e+02</td>\n",
       "      <td>1.460000e+02</td>\n",
       "    </tr>\n",
       "    <tr>\n",
       "      <th>mean</th>\n",
       "      <td>3.658114e+05</td>\n",
       "      <td>2057.662970</td>\n",
       "      <td>4.387965e+05</td>\n",
       "      <td>4.350622e+06</td>\n",
       "      <td>1.149658e+06</td>\n",
       "      <td>1.333474e+06</td>\n",
       "      <td>2.051637e+04</td>\n",
       "      <td>-3.827622e+05</td>\n",
       "      <td>5.846018e+06</td>\n",
       "      <td>7.074827e+04</td>\n",
       "      <td>63.343444</td>\n",
       "      <td>4.182736e+06</td>\n",
       "      <td>623.343879</td>\n",
       "      <td>5.854318e+05</td>\n",
       "      <td>40.030224</td>\n",
       "      <td>6.646839e+05</td>\n",
       "      <td>1147.846271</td>\n",
       "      <td>1.749257e+06</td>\n",
       "      <td>1.942249e+04</td>\n",
       "    </tr>\n",
       "    <tr>\n",
       "      <th>std</th>\n",
       "      <td>2.203575e+06</td>\n",
       "      <td>1978.612966</td>\n",
       "      <td>2.741325e+06</td>\n",
       "      <td>2.693448e+07</td>\n",
       "      <td>9.649342e+06</td>\n",
       "      <td>8.094029e+06</td>\n",
       "      <td>1.439661e+06</td>\n",
       "      <td>2.378250e+06</td>\n",
       "      <td>3.624681e+07</td>\n",
       "      <td>4.327163e+05</td>\n",
       "      <td>66.918580</td>\n",
       "      <td>2.607040e+07</td>\n",
       "      <td>1410.919321</td>\n",
       "      <td>3.682345e+06</td>\n",
       "      <td>76.789203</td>\n",
       "      <td>4.046072e+06</td>\n",
       "      <td>910.277086</td>\n",
       "      <td>1.089995e+07</td>\n",
       "      <td>1.190543e+05</td>\n",
       "    </tr>\n",
       "    <tr>\n",
       "      <th>min</th>\n",
       "      <td>0.000000e+00</td>\n",
       "      <td>57.000000</td>\n",
       "      <td>-1.025000e+05</td>\n",
       "      <td>0.000000e+00</td>\n",
       "      <td>0.000000e+00</td>\n",
       "      <td>0.000000e+00</td>\n",
       "      <td>-7.576788e+06</td>\n",
       "      <td>-2.799289e+07</td>\n",
       "      <td>-4.409300e+04</td>\n",
       "      <td>0.000000e+00</td>\n",
       "      <td>0.000000</td>\n",
       "      <td>0.000000e+00</td>\n",
       "      <td>12.000000</td>\n",
       "      <td>0.000000e+00</td>\n",
       "      <td>0.000000</td>\n",
       "      <td>0.000000e+00</td>\n",
       "      <td>2.000000</td>\n",
       "      <td>-2.604490e+06</td>\n",
       "      <td>0.000000e+00</td>\n",
       "    </tr>\n",
       "    <tr>\n",
       "      <th>25%</th>\n",
       "      <td>0.000000e+00</td>\n",
       "      <td>904.250000</td>\n",
       "      <td>0.000000e+00</td>\n",
       "      <td>9.394475e+04</td>\n",
       "      <td>0.000000e+00</td>\n",
       "      <td>0.000000e+00</td>\n",
       "      <td>0.000000e+00</td>\n",
       "      <td>-3.792600e+04</td>\n",
       "      <td>2.288695e+05</td>\n",
       "      <td>0.000000e+00</td>\n",
       "      <td>25.750000</td>\n",
       "      <td>0.000000e+00</td>\n",
       "      <td>36.000000</td>\n",
       "      <td>0.000000e+00</td>\n",
       "      <td>6.000000</td>\n",
       "      <td>0.000000e+00</td>\n",
       "      <td>591.500000</td>\n",
       "      <td>8.115000e+03</td>\n",
       "      <td>0.000000e+00</td>\n",
       "    </tr>\n",
       "    <tr>\n",
       "      <th>50%</th>\n",
       "      <td>2.105960e+05</td>\n",
       "      <td>2007.111111</td>\n",
       "      <td>0.000000e+00</td>\n",
       "      <td>9.413595e+05</td>\n",
       "      <td>0.000000e+00</td>\n",
       "      <td>3.000000e+05</td>\n",
       "      <td>0.000000e+00</td>\n",
       "      <td>0.000000e+00</td>\n",
       "      <td>9.659550e+05</td>\n",
       "      <td>2.018200e+04</td>\n",
       "      <td>58.500000</td>\n",
       "      <td>6.082935e+05</td>\n",
       "      <td>392.178571</td>\n",
       "      <td>9.595000e+02</td>\n",
       "      <td>36.277778</td>\n",
       "      <td>0.000000e+00</td>\n",
       "      <td>1058.527778</td>\n",
       "      <td>3.605280e+05</td>\n",
       "      <td>0.000000e+00</td>\n",
       "    </tr>\n",
       "    <tr>\n",
       "      <th>75%</th>\n",
       "      <td>2.708505e+05</td>\n",
       "      <td>2007.111111</td>\n",
       "      <td>9.684500e+03</td>\n",
       "      <td>1.968287e+06</td>\n",
       "      <td>0.000000e+00</td>\n",
       "      <td>8.000000e+05</td>\n",
       "      <td>0.000000e+00</td>\n",
       "      <td>0.000000e+00</td>\n",
       "      <td>2.319991e+06</td>\n",
       "      <td>5.374075e+04</td>\n",
       "      <td>58.500000</td>\n",
       "      <td>1.714221e+06</td>\n",
       "      <td>668.763889</td>\n",
       "      <td>1.506065e+05</td>\n",
       "      <td>36.277778</td>\n",
       "      <td>3.750648e+05</td>\n",
       "      <td>1117.500000</td>\n",
       "      <td>8.145280e+05</td>\n",
       "      <td>0.000000e+00</td>\n",
       "    </tr>\n",
       "    <tr>\n",
       "      <th>max</th>\n",
       "      <td>2.670423e+07</td>\n",
       "      <td>15149.000000</td>\n",
       "      <td>3.208340e+07</td>\n",
       "      <td>3.098866e+08</td>\n",
       "      <td>8.392500e+07</td>\n",
       "      <td>9.734362e+07</td>\n",
       "      <td>1.545629e+07</td>\n",
       "      <td>0.000000e+00</td>\n",
       "      <td>4.345095e+08</td>\n",
       "      <td>5.235198e+06</td>\n",
       "      <td>528.000000</td>\n",
       "      <td>3.117640e+08</td>\n",
       "      <td>14368.000000</td>\n",
       "      <td>4.266759e+07</td>\n",
       "      <td>609.000000</td>\n",
       "      <td>4.852193e+07</td>\n",
       "      <td>5521.000000</td>\n",
       "      <td>1.303223e+08</td>\n",
       "      <td>1.398517e+06</td>\n",
       "    </tr>\n",
       "  </tbody>\n",
       "</table>\n",
       "</div>"
      ],
      "text/plain": [
       "             salary   to_messages  deferral_payments  total_payments  \\\n",
       "count  1.460000e+02    146.000000       1.460000e+02    1.460000e+02   \n",
       "mean   3.658114e+05   2057.662970       4.387965e+05    4.350622e+06   \n",
       "std    2.203575e+06   1978.612966       2.741325e+06    2.693448e+07   \n",
       "min    0.000000e+00     57.000000      -1.025000e+05    0.000000e+00   \n",
       "25%    0.000000e+00    904.250000       0.000000e+00    9.394475e+04   \n",
       "50%    2.105960e+05   2007.111111       0.000000e+00    9.413595e+05   \n",
       "75%    2.708505e+05   2007.111111       9.684500e+03    1.968287e+06   \n",
       "max    2.670423e+07  15149.000000       3.208340e+07    3.098866e+08   \n",
       "\n",
       "       loan_advances         bonus  restricted_stock_deferred  \\\n",
       "count   1.460000e+02  1.460000e+02               1.460000e+02   \n",
       "mean    1.149658e+06  1.333474e+06               2.051637e+04   \n",
       "std     9.649342e+06  8.094029e+06               1.439661e+06   \n",
       "min     0.000000e+00  0.000000e+00              -7.576788e+06   \n",
       "25%     0.000000e+00  0.000000e+00               0.000000e+00   \n",
       "50%     0.000000e+00  3.000000e+05               0.000000e+00   \n",
       "75%     0.000000e+00  8.000000e+05               0.000000e+00   \n",
       "max     8.392500e+07  9.734362e+07               1.545629e+07   \n",
       "\n",
       "       deferred_income  total_stock_value      expenses  \\\n",
       "count     1.460000e+02       1.460000e+02  1.460000e+02   \n",
       "mean     -3.827622e+05       5.846018e+06  7.074827e+04   \n",
       "std       2.378250e+06       3.624681e+07  4.327163e+05   \n",
       "min      -2.799289e+07      -4.409300e+04  0.000000e+00   \n",
       "25%      -3.792600e+04       2.288695e+05  0.000000e+00   \n",
       "50%       0.000000e+00       9.659550e+05  2.018200e+04   \n",
       "75%       0.000000e+00       2.319991e+06  5.374075e+04   \n",
       "max       0.000000e+00       4.345095e+08  5.235198e+06   \n",
       "\n",
       "       from_poi_to_this_person  exercised_stock_options  from_messages  \\\n",
       "count               146.000000             1.460000e+02     146.000000   \n",
       "mean                 63.343444             4.182736e+06     623.343879   \n",
       "std                  66.918580             2.607040e+07    1410.919321   \n",
       "min                   0.000000             0.000000e+00      12.000000   \n",
       "25%                  25.750000             0.000000e+00      36.000000   \n",
       "50%                  58.500000             6.082935e+05     392.178571   \n",
       "75%                  58.500000             1.714221e+06     668.763889   \n",
       "max                 528.000000             3.117640e+08   14368.000000   \n",
       "\n",
       "              other  from_this_person_to_poi  long_term_incentive  \\\n",
       "count  1.460000e+02               146.000000         1.460000e+02   \n",
       "mean   5.854318e+05                40.030224         6.646839e+05   \n",
       "std    3.682345e+06                76.789203         4.046072e+06   \n",
       "min    0.000000e+00                 0.000000         0.000000e+00   \n",
       "25%    0.000000e+00                 6.000000         0.000000e+00   \n",
       "50%    9.595000e+02                36.277778         0.000000e+00   \n",
       "75%    1.506065e+05                36.277778         3.750648e+05   \n",
       "max    4.266759e+07               609.000000         4.852193e+07   \n",
       "\n",
       "       shared_receipt_with_poi  restricted_stock  director_fees  \n",
       "count               146.000000      1.460000e+02   1.460000e+02  \n",
       "mean               1147.846271      1.749257e+06   1.942249e+04  \n",
       "std                 910.277086      1.089995e+07   1.190543e+05  \n",
       "min                   2.000000     -2.604490e+06   0.000000e+00  \n",
       "25%                 591.500000      8.115000e+03   0.000000e+00  \n",
       "50%                1058.527778      3.605280e+05   0.000000e+00  \n",
       "75%                1117.500000      8.145280e+05   0.000000e+00  \n",
       "max                5521.000000      1.303223e+08   1.398517e+06  "
      ]
     },
     "execution_count": 11,
     "metadata": {},
     "output_type": "execute_result"
    }
   ],
   "source": [
    "df.describe()"
   ]
  },
  {
   "cell_type": "markdown",
   "metadata": {},
   "source": [
    "The max seems very high for all the values"
   ]
  },
  {
   "cell_type": "code",
   "execution_count": 12,
   "metadata": {},
   "outputs": [
    {
     "data": {
      "text/plain": [
       "salary                                     TOTAL\n",
       "to_messages                    SHAPIRO RICHARD S\n",
       "deferral_payments                          TOTAL\n",
       "total_payments                             TOTAL\n",
       "loan_advances                              TOTAL\n",
       "bonus                                      TOTAL\n",
       "restricted_stock_deferred       BHATNAGAR SANJAY\n",
       "deferred_income                    BADUM JAMES P\n",
       "total_stock_value                          TOTAL\n",
       "expenses                                   TOTAL\n",
       "from_poi_to_this_person          LAVORATO JOHN J\n",
       "exercised_stock_options                    TOTAL\n",
       "from_messages                KAMINSKI WINCENTY J\n",
       "other                                      TOTAL\n",
       "from_this_person_to_poi         DELAINEY DAVID W\n",
       "long_term_incentive                        TOTAL\n",
       "shared_receipt_with_poi         BELDEN TIMOTHY N\n",
       "restricted_stock                           TOTAL\n",
       "director_fees                              TOTAL\n",
       "dtype: object"
      ]
     },
     "execution_count": 12,
     "metadata": {},
     "output_type": "execute_result"
    }
   ],
   "source": [
    "# Finding the max index for each feature\n",
    "df.drop('poi', axis = 1).idxmax()"
   ]
  },
  {
   "cell_type": "markdown",
   "metadata": {},
   "source": [
    "It turns out there was a `TOTAL`row, this will definately skew any models so I'll remove it:"
   ]
  },
  {
   "cell_type": "code",
   "execution_count": 13,
   "metadata": {},
   "outputs": [],
   "source": [
    "df.drop('TOTAL', inplace = True)"
   ]
  },
  {
   "cell_type": "markdown",
   "metadata": {},
   "source": [
    "Another thing I noticed was that the minimum value in `restricted_stock` was a negative value where all of the values should be positive. A quick check to try and find the problem would be to see if each row sums to their `total_payments` and `total_stock_value` columns:"
   ]
  },
  {
   "cell_type": "code",
   "execution_count": 14,
   "metadata": {},
   "outputs": [
    {
     "data": {
      "text/html": [
       "<div>\n",
       "<style scoped>\n",
       "    .dataframe tbody tr th:only-of-type {\n",
       "        vertical-align: middle;\n",
       "    }\n",
       "\n",
       "    .dataframe tbody tr th {\n",
       "        vertical-align: top;\n",
       "    }\n",
       "\n",
       "    .dataframe thead th {\n",
       "        text-align: right;\n",
       "    }\n",
       "</style>\n",
       "<table border=\"1\" class=\"dataframe\">\n",
       "  <thead>\n",
       "    <tr style=\"text-align: right;\">\n",
       "      <th></th>\n",
       "      <th>salary</th>\n",
       "      <th>to_messages</th>\n",
       "      <th>deferral_payments</th>\n",
       "      <th>total_payments</th>\n",
       "      <th>loan_advances</th>\n",
       "      <th>bonus</th>\n",
       "      <th>restricted_stock_deferred</th>\n",
       "      <th>deferred_income</th>\n",
       "      <th>total_stock_value</th>\n",
       "      <th>expenses</th>\n",
       "      <th>from_poi_to_this_person</th>\n",
       "      <th>exercised_stock_options</th>\n",
       "      <th>from_messages</th>\n",
       "      <th>other</th>\n",
       "      <th>from_this_person_to_poi</th>\n",
       "      <th>poi</th>\n",
       "      <th>long_term_incentive</th>\n",
       "      <th>shared_receipt_with_poi</th>\n",
       "      <th>restricted_stock</th>\n",
       "      <th>director_fees</th>\n",
       "    </tr>\n",
       "  </thead>\n",
       "  <tbody>\n",
       "    <tr>\n",
       "      <th>BELFER ROBERT</th>\n",
       "      <td>0.0</td>\n",
       "      <td>2007.111111</td>\n",
       "      <td>-102500.0</td>\n",
       "      <td>102500.0</td>\n",
       "      <td>0.0</td>\n",
       "      <td>0.0</td>\n",
       "      <td>44093.0</td>\n",
       "      <td>0.0</td>\n",
       "      <td>-44093.0</td>\n",
       "      <td>0.0</td>\n",
       "      <td>58.5</td>\n",
       "      <td>3285.0</td>\n",
       "      <td>668.763889</td>\n",
       "      <td>0.0</td>\n",
       "      <td>36.277778</td>\n",
       "      <td>False</td>\n",
       "      <td>0.0</td>\n",
       "      <td>1058.527778</td>\n",
       "      <td>0.0</td>\n",
       "      <td>3285.0</td>\n",
       "    </tr>\n",
       "    <tr>\n",
       "      <th>BHATNAGAR SANJAY</th>\n",
       "      <td>0.0</td>\n",
       "      <td>523.000000</td>\n",
       "      <td>0.0</td>\n",
       "      <td>15456290.0</td>\n",
       "      <td>0.0</td>\n",
       "      <td>0.0</td>\n",
       "      <td>15456290.0</td>\n",
       "      <td>0.0</td>\n",
       "      <td>0.0</td>\n",
       "      <td>0.0</td>\n",
       "      <td>0.0</td>\n",
       "      <td>2604490.0</td>\n",
       "      <td>29.000000</td>\n",
       "      <td>137864.0</td>\n",
       "      <td>1.000000</td>\n",
       "      <td>False</td>\n",
       "      <td>0.0</td>\n",
       "      <td>463.000000</td>\n",
       "      <td>-2604490.0</td>\n",
       "      <td>137864.0</td>\n",
       "    </tr>\n",
       "  </tbody>\n",
       "</table>\n",
       "</div>"
      ],
      "text/plain": [
       "                  salary  to_messages  deferral_payments  total_payments  \\\n",
       "BELFER ROBERT        0.0  2007.111111          -102500.0        102500.0   \n",
       "BHATNAGAR SANJAY     0.0   523.000000                0.0      15456290.0   \n",
       "\n",
       "                  loan_advances  bonus  restricted_stock_deferred  \\\n",
       "BELFER ROBERT               0.0    0.0                    44093.0   \n",
       "BHATNAGAR SANJAY            0.0    0.0                 15456290.0   \n",
       "\n",
       "                  deferred_income  total_stock_value  expenses  \\\n",
       "BELFER ROBERT                 0.0           -44093.0       0.0   \n",
       "BHATNAGAR SANJAY              0.0                0.0       0.0   \n",
       "\n",
       "                  from_poi_to_this_person  exercised_stock_options  \\\n",
       "BELFER ROBERT                        58.5                   3285.0   \n",
       "BHATNAGAR SANJAY                      0.0                2604490.0   \n",
       "\n",
       "                  from_messages     other  from_this_person_to_poi    poi  \\\n",
       "BELFER ROBERT        668.763889       0.0                36.277778  False   \n",
       "BHATNAGAR SANJAY      29.000000  137864.0                 1.000000  False   \n",
       "\n",
       "                  long_term_incentive  shared_receipt_with_poi  \\\n",
       "BELFER ROBERT                     0.0              1058.527778   \n",
       "BHATNAGAR SANJAY                  0.0               463.000000   \n",
       "\n",
       "                  restricted_stock  director_fees  \n",
       "BELFER ROBERT                  0.0         3285.0  \n",
       "BHATNAGAR SANJAY        -2604490.0       137864.0  "
      ]
     },
     "execution_count": 14,
     "metadata": {},
     "output_type": "execute_result"
    }
   ],
   "source": [
    "f_features = financial_features[:-1]\n",
    "f_features.remove('total_payments')\n",
    "df[df[f_features].sum(axis = 1) != df[['total_payments', 'total_stock_value']].sum(axis = 1)]"
   ]
  },
  {
   "cell_type": "markdown",
   "metadata": {},
   "source": [
    "It appears that the financial features for ‘BELFER ROBERT’ had been shifted accidentally one place to the right and those for ‘BHANTNAGAR SANJAY’ had been shifted to the right. Lets fix that:"
   ]
  },
  {
   "cell_type": "code",
   "execution_count": 15,
   "metadata": {},
   "outputs": [],
   "source": [
    "# Fix incorrectly inputted data\n",
    "BELFER_fix = df.loc['BELFER ROBERT'][financial_features].shift(-1).fillna(0)\n",
    "BHATNAGAR_fix = df.loc['BHATNAGAR SANJAY'][financial_features].shift(1).fillna(0)\n",
    "for financial_feature in financial_features:\n",
    "    df.at['BELFER ROBERT',financial_feature] = BELFER_fix[financial_feature]\n",
    "    df.at['BHATNAGAR SANJAY', financial_feature] = BHATNAGAR_fix[financial_feature]"
   ]
  },
  {
   "cell_type": "markdown",
   "metadata": {},
   "source": [
    "Finally I'll separate the dataframe into the data and the labels:"
   ]
  },
  {
   "cell_type": "code",
   "execution_count": 16,
   "metadata": {},
   "outputs": [],
   "source": [
    "data = df.drop('poi', axis = 1)\n",
    "labels = df['poi']"
   ]
  },
  {
   "cell_type": "markdown",
   "metadata": {},
   "source": [
    "## Scaling\n",
    "\n",
    "The Enron corporation included some extremely high paid induviduals with far higher bonuses, salary and stock options than the rest. Whilst it would be good to label all the employees with big bonuses as *poi* this is not necessarily the case and we will want our model to reflect that."
   ]
  },
  {
   "cell_type": "code",
   "execution_count": 17,
   "metadata": {},
   "outputs": [
    {
     "data": {
      "text/plain": [
       "Text(0, 0.5, 'Dollars (US)')"
      ]
     },
     "execution_count": 17,
     "metadata": {},
     "output_type": "execute_result"
    },
    {
     "data": {
      "image/png": "[encoded data removed]",
      "text/plain": [
       "<Figure size 1152x576 with 1 Axes>"
      ]
     },
     "metadata": {
      "needs_background": "light"
     },
     "output_type": "display_data"
    }
   ],
   "source": [
    "# Plot some of the highest variance data\n",
    "ax = df[df.var().sort_values(ascending = False).index[:4]].plot(figsize = (16,8))\n",
    "ax.set_xlabel(\"Employees\")\n",
    "ax.set_ylabel(\"Dollars (US)\")"
   ]
  },
  {
   "cell_type": "markdown",
   "metadata": {},
   "source": [
    "Interestingly after inspecting the variance in some of the data there appears to be a substantial outlier, it turns out that this is Kenneth Lay, CEO and Chairman of Enron and heavily involved in the Enron scandal. So we'll want to keep this in the dataset, however classifiers such as SVM are susceptable to being skewed by outliers. So in addition to using standard scaling to reduce the data to unit variance, we'll be testing out Sci-Kit learn's `PowerTransformer` to get a more Gaussian distribution.\n",
    "\n",
    "Lets compare the distributution with and without the scaling:"
   ]
  },
  {
   "cell_type": "code",
   "execution_count": 18,
   "metadata": {},
   "outputs": [
    {
     "data": {
      "text/plain": [
       "<matplotlib.legend.Legend at 0x25367f842b0>"
      ]
     },
     "execution_count": 18,
     "metadata": {},
     "output_type": "execute_result"
    },
    {
     "data": {
      "image/png": "[encoded data removed]",
      "text/plain": [
       "<Figure size 720x432 with 1 Axes>"
      ]
     },
     "metadata": {
      "needs_background": "light"
     },
     "output_type": "display_data"
    }
   ],
   "source": [
    "# Plot some of the data thats unscaled\n",
    "poi = matplotlib.patches.Patch(color='red', label='poi')\n",
    "non_poi = matplotlib.patches.Patch(color='blue', label='non poi')\n",
    "ax = df.plot('total_payments', 'total_stock_value',kind = 'scatter', c = df['poi'].apply(lambda x: 'red' if x else 'blue'), figsize = (10,6))\n",
    "ax.legend(handles = [poi, non_poi])"
   ]
  },
  {
   "cell_type": "code",
   "execution_count": 19,
   "metadata": {},
   "outputs": [],
   "source": [
    "# Import scalers\n",
    "from sklearn.preprocessing import StandardScaler, PowerTransformer"
   ]
  },
  {
   "cell_type": "code",
   "execution_count": 20,
   "metadata": {},
   "outputs": [],
   "source": [
    "#Scale the data\n",
    "df_standard = pd.DataFrame(StandardScaler().fit_transform(data.values), columns=data.columns, index=data.index)\n",
    "df_standard['poi'] = labels\n",
    "\n",
    "df_power = pd.DataFrame(PowerTransformer().fit_transform(data.values), columns=data.columns, index=data.index)\n",
    "df_power['poi'] = labels"
   ]
  },
  {
   "cell_type": "code",
   "execution_count": 21,
   "metadata": {},
   "outputs": [
    {
     "data": {
      "text/plain": [
       "<matplotlib.legend.Legend at 0x2536a3e6dd8>"
      ]
     },
     "execution_count": 21,
     "metadata": {},
     "output_type": "execute_result"
    },
    {
     "data": {
      "image/png": "[encoded data removed]",
      "text/plain": [
       "<Figure size 720x432 with 1 Axes>"
      ]
     },
     "metadata": {
      "needs_background": "light"
     },
     "output_type": "display_data"
    }
   ],
   "source": [
    "# Plot Power scaled data\n",
    "ax = df_power.plot('total_payments', 'total_stock_value',kind = 'scatter', c = df_standard['poi'].apply(lambda x: 'red' if x else 'blue'), figsize = (10,6))\n",
    "ax.legend(handles = [poi, non_poi])"
   ]
  },
  {
   "cell_type": "markdown",
   "metadata": {},
   "source": [
    "## Initial performance testing\n",
    "\n",
    "I'll start the initial testing with a variety of classifiers on all the features in the dataset to find a baseline performance before any feature selection and fine tuning is made. I'll set the number of clusters for the K Means classifier to 2, however, as I aim to separate the poi from the others.\n",
    "If at this point I ran a classifier that identified everyone as not a poi, then it would still have an accuracy score of 87.7%, hence its insufficient to test on accuracy alone.  I'll test the classifiers based on their accuracy, precision, recall and F1 score.  \n",
    "\n",
    "A quick explanation on what each metric is:\n",
    "- **Accuracy**: What percentage of the employees where correctly classified\n",
    "- **Precision**: Of all the employees identified as *poi*, what percentage of them where correctly identified, i.e. were *true positives*.\n",
    "- **Recall**: Of all the *poi*, what percentage where correctly identified\n",
    "- **F1 score**: $2$x$\\frac{recall * precision}{recall + precision}$\n",
    "\n",
    "So a high Precision would be usefull if we wanted to avoid *false positives*, i.e. avoiding mislabeling someone as guilty. Conversely high recall would be essential if it was imperative none of the *poi* escaped detection. The F1 score provides a balance between the two and I'll be using it as the main scorer for my classifiers. "
   ]
  },
  {
   "cell_type": "code",
   "execution_count": 22,
   "metadata": {},
   "outputs": [],
   "source": [
    "# Import classifiers\n",
    "from sklearn.naive_bayes import GaussianNB\n",
    "from sklearn.cluster import KMeans\n",
    "from sklearn.svm import SVC\n",
    "from sklearn.tree import DecisionTreeClassifier\n",
    "from sklearn.ensemble import RandomForestClassifier\n",
    "\n",
    "# Import cross validation tools\n",
    "from sklearn.model_selection import cross_validate, LeaveOneOut, GridSearchCV\n",
    "from sklearn.pipeline import Pipeline\n",
    "from sklearn.metrics import confusion_matrix, make_scorer"
   ]
  },
  {
   "cell_type": "markdown",
   "metadata": {},
   "source": [
    "### Validation\n",
    "\n",
    "Training and testing the models on the same set of data is very bad practice and will most likely result in the model being overfit. To avoid this the data should be split into training and testing subsets. \n",
    "One method for this split is to use cross validation which forms several different train test splits and fits the model on each, giving the final score as the average over all the splits. Given the small size of the dataset I'll be using `LeaveOneOut` which will train the models on all the datapoints bar one, which the model will be tested on."
   ]
  },
  {
   "cell_type": "code",
   "execution_count": 48,
   "metadata": {},
   "outputs": [],
   "source": [
    "def test(pipe, param_grid = [], X = data, y = labels, cv = LeaveOneOut()):\n",
    "    \"\"\" \n",
    "    Basic testing function that performs a Gridsearch to give the accuracy, precision, recall an f1 score.\n",
    "    Can take a pipeline as an input.\n",
    "    \"\"\"\n",
    "    # Define scoring functions (true negative, false positive, false negative, true positive)\n",
    "    def tn(y_true, y_pred): return confusion_matrix(y_true, y_pred, labels = [False, True])[0, 0]\n",
    "    def fp(y_true, y_pred): return confusion_matrix(y_true, y_pred, labels = [False, True])[0, 1]\n",
    "    def fn(y_true, y_pred): return confusion_matrix(y_true, y_pred, labels = [False, True])[1, 0]\n",
    "    def tp(y_true, y_pred): return confusion_matrix(y_true, y_pred, labels = [False, True])[1, 1]\n",
    "    scoring = {'tp': make_scorer(tp), 'tn': make_scorer(tn),\n",
    "               'fp': make_scorer(fp), 'fn': make_scorer(fn)}\n",
    "\n",
    "    # Create and fit GridsearchCV\n",
    "    clf = GridSearchCV(pipe, param_grid = param_grid, scoring = scoring, refit = False, cv = cv,return_train_score = True)\n",
    "\n",
    "    clf.fit(X.as_matrix(), y.as_matrix())\n",
    "\n",
    "    # Put results in dataframe and add metrics\n",
    "    test = pd.DataFrame(clf.cv_results_)\n",
    "\n",
    "    test['accuracy'] = test['mean_test_tp'] + test['mean_test_tn']\n",
    "    test['precision'] = test['mean_test_tp'] / (initial_test['mean_test_tp'] + test['mean_test_fp'])\n",
    "    test['recall'] = test['mean_test_tp'] / (initial_test['mean_test_tp'] + test['mean_test_fn'])\n",
    "    test['f1'] = 2 * (test['precision'] * test['recall']) / (test['precision'] + test['recall'])\n",
    "\n",
    "    return test"
   ]
  },
  {
   "cell_type": "code",
   "execution_count": 49,
   "metadata": {},
   "outputs": [
    {
     "name": "stderr",
     "output_type": "stream",
     "text": [
      "C:\\Users\\Lang\\Anaconda3\\lib\\site-packages\\ipykernel_launcher.py:17: FutureWarning: Method .as_matrix will be removed in a future version. Use .values instead.\n",
      "C:\\Users\\Lang\\Anaconda3\\lib\\site-packages\\sklearn\\ensemble\\forest.py:246: FutureWarning: The default value of n_estimators will change from 10 in version 0.20 to 100 in 0.22.\n",
      "  \"10 in version 0.20 to 100 in 0.22.\", FutureWarning)\n"
     ]
    }
   ],
   "source": [
    "# Choose scaling and classifier, run initial test\n",
    "pipe = Pipeline([\n",
    "    ('scale', StandardScaler()),\n",
    "    ('classify', GaussianNB())])\n",
    "\n",
    "param_grid = [{'scale': [StandardScaler(), PowerTransformer()],\n",
    "               'classify': [GaussianNB(), KMeans(n_clusters = 2), SVC(), DecisionTreeClassifier(), RandomForestClassifier()]}]\n",
    "\n",
    "initial_test = test(pipe, param_grid)\n"
   ]
  },
  {
   "cell_type": "code",
   "execution_count": 50,
   "metadata": {},
   "outputs": [
    {
     "data": {
      "text/html": [
       "<div>\n",
       "<style scoped>\n",
       "    .dataframe tbody tr th:only-of-type {\n",
       "        vertical-align: middle;\n",
       "    }\n",
       "\n",
       "    .dataframe tbody tr th {\n",
       "        vertical-align: top;\n",
       "    }\n",
       "\n",
       "    .dataframe thead th {\n",
       "        text-align: right;\n",
       "    }\n",
       "</style>\n",
       "<table border=\"1\" class=\"dataframe\">\n",
       "  <thead>\n",
       "    <tr style=\"text-align: right;\">\n",
       "      <th></th>\n",
       "      <th>param_classify</th>\n",
       "      <th>param_scale</th>\n",
       "      <th>accuracy</th>\n",
       "      <th>precision</th>\n",
       "      <th>recall</th>\n",
       "      <th>f1</th>\n",
       "      <th>mean_fit_time</th>\n",
       "    </tr>\n",
       "  </thead>\n",
       "  <tbody>\n",
       "    <tr>\n",
       "      <th>7</th>\n",
       "      <td>DecisionTreeClassifier(class_weight=None, crit...</td>\n",
       "      <td>PowerTransformer(copy=True, method='yeo-johnso...</td>\n",
       "      <td>0.896552</td>\n",
       "      <td>0.769231</td>\n",
       "      <td>0.714286</td>\n",
       "      <td>0.740741</td>\n",
       "      <td>0.114973</td>\n",
       "    </tr>\n",
       "    <tr>\n",
       "      <th>6</th>\n",
       "      <td>DecisionTreeClassifier(class_weight=None, crit...</td>\n",
       "      <td>StandardScaler(copy=True, with_mean=True, with...</td>\n",
       "      <td>0.882759</td>\n",
       "      <td>0.533333</td>\n",
       "      <td>0.444444</td>\n",
       "      <td>0.484848</td>\n",
       "      <td>0.003223</td>\n",
       "    </tr>\n",
       "    <tr>\n",
       "      <th>1</th>\n",
       "      <td>GaussianNB(priors=None, var_smoothing=1e-09)</td>\n",
       "      <td>PowerTransformer(copy=True, method='yeo-johnso...</td>\n",
       "      <td>0.613793</td>\n",
       "      <td>0.228571</td>\n",
       "      <td>0.888889</td>\n",
       "      <td>0.363636</td>\n",
       "      <td>0.145074</td>\n",
       "    </tr>\n",
       "    <tr>\n",
       "      <th>8</th>\n",
       "      <td>(DecisionTreeClassifier(class_weight=None, cri...</td>\n",
       "      <td>StandardScaler(copy=True, with_mean=True, with...</td>\n",
       "      <td>0.882759</td>\n",
       "      <td>0.750000</td>\n",
       "      <td>0.176471</td>\n",
       "      <td>0.285714</td>\n",
       "      <td>0.020015</td>\n",
       "    </tr>\n",
       "    <tr>\n",
       "      <th>0</th>\n",
       "      <td>GaussianNB(priors=None, var_smoothing=1e-09)</td>\n",
       "      <td>StandardScaler(copy=True, with_mean=True, with...</td>\n",
       "      <td>0.503448</td>\n",
       "      <td>0.168675</td>\n",
       "      <td>0.736842</td>\n",
       "      <td>0.274510</td>\n",
       "      <td>0.003945</td>\n",
       "    </tr>\n",
       "    <tr>\n",
       "      <th>5</th>\n",
       "      <td>SVC(C=1.0, cache_size=200, class_weight=None, ...</td>\n",
       "      <td>PowerTransformer(copy=True, method='yeo-johnso...</td>\n",
       "      <td>0.882759</td>\n",
       "      <td>2.000000</td>\n",
       "      <td>0.125000</td>\n",
       "      <td>0.235294</td>\n",
       "      <td>0.151166</td>\n",
       "    </tr>\n",
       "    <tr>\n",
       "      <th>3</th>\n",
       "      <td>KMeans(algorithm='auto', copy_x=True, init='k-...</td>\n",
       "      <td>PowerTransformer(copy=True, method='yeo-johnso...</td>\n",
       "      <td>0.544828</td>\n",
       "      <td>0.138462</td>\n",
       "      <td>0.529412</td>\n",
       "      <td>0.219512</td>\n",
       "      <td>0.179353</td>\n",
       "    </tr>\n",
       "    <tr>\n",
       "      <th>2</th>\n",
       "      <td>KMeans(algorithm='auto', copy_x=True, init='k-...</td>\n",
       "      <td>StandardScaler(copy=True, with_mean=True, with...</td>\n",
       "      <td>0.813793</td>\n",
       "      <td>0.230769</td>\n",
       "      <td>0.187500</td>\n",
       "      <td>0.206897</td>\n",
       "      <td>0.033214</td>\n",
       "    </tr>\n",
       "    <tr>\n",
       "      <th>9</th>\n",
       "      <td>(DecisionTreeClassifier(class_weight=None, cri...</td>\n",
       "      <td>PowerTransformer(copy=True, method='yeo-johnso...</td>\n",
       "      <td>0.875862</td>\n",
       "      <td>0.333333</td>\n",
       "      <td>0.142857</td>\n",
       "      <td>0.200000</td>\n",
       "      <td>0.135775</td>\n",
       "    </tr>\n",
       "    <tr>\n",
       "      <th>4</th>\n",
       "      <td>SVC(C=1.0, cache_size=200, class_weight=None, ...</td>\n",
       "      <td>StandardScaler(copy=True, with_mean=True, with...</td>\n",
       "      <td>0.875862</td>\n",
       "      <td>NaN</td>\n",
       "      <td>0.000000</td>\n",
       "      <td>NaN</td>\n",
       "      <td>0.007011</td>\n",
       "    </tr>\n",
       "  </tbody>\n",
       "</table>\n",
       "</div>"
      ],
      "text/plain": [
       "                                      param_classify  \\\n",
       "7  DecisionTreeClassifier(class_weight=None, crit...   \n",
       "6  DecisionTreeClassifier(class_weight=None, crit...   \n",
       "1       GaussianNB(priors=None, var_smoothing=1e-09)   \n",
       "8  (DecisionTreeClassifier(class_weight=None, cri...   \n",
       "0       GaussianNB(priors=None, var_smoothing=1e-09)   \n",
       "5  SVC(C=1.0, cache_size=200, class_weight=None, ...   \n",
       "3  KMeans(algorithm='auto', copy_x=True, init='k-...   \n",
       "2  KMeans(algorithm='auto', copy_x=True, init='k-...   \n",
       "9  (DecisionTreeClassifier(class_weight=None, cri...   \n",
       "4  SVC(C=1.0, cache_size=200, class_weight=None, ...   \n",
       "\n",
       "                                         param_scale  accuracy  precision  \\\n",
       "7  PowerTransformer(copy=True, method='yeo-johnso...  0.896552   0.769231   \n",
       "6  StandardScaler(copy=True, with_mean=True, with...  0.882759   0.533333   \n",
       "1  PowerTransformer(copy=True, method='yeo-johnso...  0.613793   0.228571   \n",
       "8  StandardScaler(copy=True, with_mean=True, with...  0.882759   0.750000   \n",
       "0  StandardScaler(copy=True, with_mean=True, with...  0.503448   0.168675   \n",
       "5  PowerTransformer(copy=True, method='yeo-johnso...  0.882759   2.000000   \n",
       "3  PowerTransformer(copy=True, method='yeo-johnso...  0.544828   0.138462   \n",
       "2  StandardScaler(copy=True, with_mean=True, with...  0.813793   0.230769   \n",
       "9  PowerTransformer(copy=True, method='yeo-johnso...  0.875862   0.333333   \n",
       "4  StandardScaler(copy=True, with_mean=True, with...  0.875862        NaN   \n",
       "\n",
       "     recall        f1  mean_fit_time  \n",
       "7  0.714286  0.740741       0.114973  \n",
       "6  0.444444  0.484848       0.003223  \n",
       "1  0.888889  0.363636       0.145074  \n",
       "8  0.176471  0.285714       0.020015  \n",
       "0  0.736842  0.274510       0.003945  \n",
       "5  0.125000  0.235294       0.151166  \n",
       "3  0.529412  0.219512       0.179353  \n",
       "2  0.187500  0.206897       0.033214  \n",
       "9  0.142857  0.200000       0.135775  \n",
       "4  0.000000       NaN       0.007011  "
      ]
     },
     "execution_count": 50,
     "metadata": {},
     "output_type": "execute_result"
    }
   ],
   "source": [
    "initial_test[['param_classify', 'param_scale','accuracy','precision','recall','f1','mean_fit_time']].sort_values('f1', ascending = False)"
   ]
  },
  {
   "cell_type": "markdown",
   "metadata": {},
   "source": [
    "The leave one out cross validation (LOOCV) method tends to have high variance when it comes to results, however it is clear that the real winners here are Naive Bayes, Decision tree and Random Forest classifiers. Naive Bayes favouring recall to precision, whilst Decision tree favoured each. \n",
    "\n",
    "Interestingly the Random forest performed worse than the decision tree.  Random forests are an emsemble method that operate by creating 100 (by default) decision trees and outputting the mode result, with each tree being made on a random subset of the data. The subsets are constructed by taking n data points, where n is the size of the dataset, from the dataset *with replacement*, hence each subset contains approximately 63% of the unique values of the original dataset. It's likely, in this case, that the random forest is being trained on fewer of the *poi* in each case than the Decision tree and so returns a poorer model.\n",
    "\n",
    "SVM and Kmeans both performed poorly, with SVM appearing to return no positive predictions at all, I'll drop these two from now on.\n",
    "\n",
    "Decision trees and Random forests are invariant to feature scaling as reflected in the results, the Guassian Naive Bayes did seem to benifit fromt the more Gaussian distribution created from the power transform. I'll continue with the power transformed data from now on."
   ]
  },
  {
   "cell_type": "markdown",
   "metadata": {},
   "source": [
    "## Feature Selection and Parameter Tuning\n",
    "Feature selection is crucial in that it reduces the complexity of training the model cuts down on the *noise* in the data. I.e. removes the features that contribute nothing to the model.\n",
    "\n",
    "Before I start selecting features to use I'm going to examine the correlation between some of the features to see if we have some redundant ones:"
   ]
  },
  {
   "cell_type": "code",
   "execution_count": 33,
   "metadata": {},
   "outputs": [
    {
     "data": {
      "text/plain": [
       "loan_advances            total_payments             0.972672\n",
       "total_stock_value        exercised_stock_options    0.964630\n",
       "shared_receipt_with_poi  to_messages                0.844562\n",
       "total_payments           other                      0.838147\n",
       "total_stock_value        restricted_stock           0.782958\n",
       "other                    loan_advances              0.759241\n",
       "from_poi_to_this_person  shared_receipt_with_poi    0.663299\n",
       "total_payments           total_stock_value          0.659808\n",
       "salary                   bonus                      0.650542\n",
       "dtype: float64"
      ]
     },
     "execution_count": 33,
     "metadata": {},
     "output_type": "execute_result"
    }
   ],
   "source": [
    "# Find the most correlatted features\n",
    "data.corr().unstack().sort_values(ascending = False).drop_duplicates()[1:10]"
   ]
  },
  {
   "cell_type": "markdown",
   "metadata": {},
   "source": [
    "There are a number of very highly correlated features, this makes complete sense however, of course their exercised stock options will be reflected in their total stock value etc.\n",
    "\n",
    "However this doesn't mean that this data is irrelevent, I'm going to construct a few features that reflect the ratio between some of these values. Maybe the proportion of emails sent to *poi* will be a good indicator of fraudulant activity, similarly it could be likely they rewarded themselves with higher than typical bonuses."
   ]
  },
  {
   "cell_type": "code",
   "execution_count": 40,
   "metadata": {},
   "outputs": [],
   "source": [
    "#Construct new featuers\n",
    "data['from_poi_ratio'] = (data['from_poi_to_this_person'] / data['from_messages']).fillna(0)\n",
    "data['to_poi_ratio'] = (data['from_this_person_to_poi'] / data['to_messages']).fillna(0)\n",
    "data['share_receipt_ratio'] = (data['shared_receipt_with_poi'] / data['to_messages']).fillna(0)\n",
    "data['bonus_to_salary'] = (data['bonus'] / data['salary']).fillna(0)"
   ]
  },
  {
   "cell_type": "code",
   "execution_count": 53,
   "metadata": {},
   "outputs": [
    {
     "name": "stderr",
     "output_type": "stream",
     "text": [
      "C:\\Users\\Lang\\Anaconda3\\lib\\site-packages\\ipykernel_launcher.py:17: FutureWarning: Method .as_matrix will be removed in a future version. Use .values instead.\n"
     ]
    },
    {
     "data": {
      "text/html": [
       "<div>\n",
       "<style scoped>\n",
       "    .dataframe tbody tr th:only-of-type {\n",
       "        vertical-align: middle;\n",
       "    }\n",
       "\n",
       "    .dataframe tbody tr th {\n",
       "        vertical-align: top;\n",
       "    }\n",
       "\n",
       "    .dataframe thead th {\n",
       "        text-align: right;\n",
       "    }\n",
       "</style>\n",
       "<table border=\"1\" class=\"dataframe\">\n",
       "  <thead>\n",
       "    <tr style=\"text-align: right;\">\n",
       "      <th></th>\n",
       "      <th>params</th>\n",
       "      <th>accuracy</th>\n",
       "      <th>precision</th>\n",
       "      <th>recall</th>\n",
       "      <th>f1</th>\n",
       "      <th>mean_fit_time</th>\n",
       "    </tr>\n",
       "  </thead>\n",
       "  <tbody>\n",
       "    <tr>\n",
       "      <th>0</th>\n",
       "      <td>{}</td>\n",
       "      <td>0.910345</td>\n",
       "      <td>0.526316</td>\n",
       "      <td>0.454545</td>\n",
       "      <td>0.487805</td>\n",
       "      <td>0.001663</td>\n",
       "    </tr>\n",
       "  </tbody>\n",
       "</table>\n",
       "</div>"
      ],
      "text/plain": [
       "  params  accuracy  precision    recall        f1  mean_fit_time\n",
       "0     {}  0.910345   0.526316  0.454545  0.487805       0.001663"
      ]
     },
     "execution_count": 53,
     "metadata": {},
     "output_type": "execute_result"
    }
   ],
   "source": [
    "clf = DecisionTreeClassifier()\n",
    "test2 = test(clf, {})\n",
    "test2[['params','accuracy','precision','recall','f1','mean_fit_time']]"
   ]
  },
  {
   "cell_type": "code",
   "execution_count": 46,
   "metadata": {},
   "outputs": [
    {
     "name": "stderr",
     "output_type": "stream",
     "text": [
      "C:\\Users\\Lang\\Anaconda3\\lib\\site-packages\\ipykernel_launcher.py:2: FutureWarning: Method .as_matrix will be removed in a future version. Use .values instead.\n",
      "  \n"
     ]
    },
    {
     "data": {
      "text/html": [
       "<div>\n",
       "<style scoped>\n",
       "    .dataframe tbody tr th:only-of-type {\n",
       "        vertical-align: middle;\n",
       "    }\n",
       "\n",
       "    .dataframe tbody tr th {\n",
       "        vertical-align: top;\n",
       "    }\n",
       "\n",
       "    .dataframe thead th {\n",
       "        text-align: right;\n",
       "    }\n",
       "</style>\n",
       "<table border=\"1\" class=\"dataframe\">\n",
       "  <thead>\n",
       "    <tr style=\"text-align: right;\">\n",
       "      <th></th>\n",
       "      <th>mean_fit_time</th>\n",
       "      <th>std_fit_time</th>\n",
       "      <th>mean_score_time</th>\n",
       "      <th>std_score_time</th>\n",
       "      <th>params</th>\n",
       "      <th>split0_test_tp</th>\n",
       "      <th>split1_test_tp</th>\n",
       "      <th>split2_test_tp</th>\n",
       "      <th>split3_test_tp</th>\n",
       "      <th>split4_test_tp</th>\n",
       "      <th>...</th>\n",
       "      <th>split137_train_fn</th>\n",
       "      <th>split138_train_fn</th>\n",
       "      <th>split139_train_fn</th>\n",
       "      <th>split140_train_fn</th>\n",
       "      <th>split141_train_fn</th>\n",
       "      <th>split142_train_fn</th>\n",
       "      <th>split143_train_fn</th>\n",
       "      <th>split144_train_fn</th>\n",
       "      <th>mean_train_fn</th>\n",
       "      <th>std_train_fn</th>\n",
       "    </tr>\n",
       "  </thead>\n",
       "  <tbody>\n",
       "    <tr>\n",
       "      <th>0</th>\n",
       "      <td>0.001688</td>\n",
       "      <td>0.002902</td>\n",
       "      <td>0.003431</td>\n",
       "      <td>0.003576</td>\n",
       "      <td>{}</td>\n",
       "      <td>0.0</td>\n",
       "      <td>0.0</td>\n",
       "      <td>0.0</td>\n",
       "      <td>0.0</td>\n",
       "      <td>0.0</td>\n",
       "      <td>...</td>\n",
       "      <td>10.0</td>\n",
       "      <td>10.0</td>\n",
       "      <td>10.0</td>\n",
       "      <td>10.0</td>\n",
       "      <td>10.0</td>\n",
       "      <td>10.0</td>\n",
       "      <td>10.0</td>\n",
       "      <td>10.0</td>\n",
       "      <td>9.806897</td>\n",
       "      <td>0.956261</td>\n",
       "    </tr>\n",
       "  </tbody>\n",
       "</table>\n",
       "<p>1 rows × 1185 columns</p>\n",
       "</div>"
      ],
      "text/plain": [
       "   mean_fit_time  std_fit_time  mean_score_time  std_score_time params  \\\n",
       "0       0.001688      0.002902         0.003431        0.003576     {}   \n",
       "\n",
       "   split0_test_tp  split1_test_tp  split2_test_tp  split3_test_tp  \\\n",
       "0             0.0             0.0             0.0             0.0   \n",
       "\n",
       "   split4_test_tp      ...       split137_train_fn  split138_train_fn  \\\n",
       "0             0.0      ...                    10.0               10.0   \n",
       "\n",
       "   split139_train_fn  split140_train_fn  split141_train_fn  split142_train_fn  \\\n",
       "0               10.0               10.0               10.0               10.0   \n",
       "\n",
       "   split143_train_fn  split144_train_fn  mean_train_fn  std_train_fn  \n",
       "0               10.0               10.0       9.806897      0.956261  \n",
       "\n",
       "[1 rows x 1185 columns]"
      ]
     },
     "execution_count": 46,
     "metadata": {},
     "output_type": "execute_result"
    }
   ],
   "source": [
    "clf = GridSearchCV(GaussianNB(), {}, scoring = scoring, refit = False, cv = cv,return_train_score = True)\n",
    "clf.fit(data.as_matrix(), labels.as_matrix())\n",
    "tree = pd.DataFrame(clf.cv_results_)\n",
    "tree"
   ]
  },
  {
   "cell_type": "code",
   "execution_count": 43,
   "metadata": {},
   "outputs": [
    {
     "data": {
      "text/plain": [
       "fit_time          0.58023\n",
       "score_time        1.18320\n",
       "test_tp          10.00000\n",
       "train_tp       2592.00000\n",
       "test_tn         122.00000\n",
       "train_tn      18288.00000\n",
       "test_fp           5.00000\n",
       "train_fp          0.00000\n",
       "test_fn           8.00000\n",
       "train_fn          0.00000\n",
       "dtype: float64"
      ]
     },
     "execution_count": 43,
     "metadata": {},
     "output_type": "execute_result"
    }
   ],
   "source": [
    "tree.sum()"
   ]
  },
  {
   "cell_type": "markdown",
   "metadata": {},
   "source": [
    "#### to do:\n",
    "\n",
    "    - Test decision tree and random forest on whole dataset, find feature importances\n",
    "    - Remove some of those features\n",
    "    - Do final gridsearch with parameter tuning\n",
    "    - write conclusion"
   ]
  }
 ],
 "metadata": {
  "kernelspec": {
   "display_name": "Python 3",
   "language": "python",
   "name": "python3"
  },
  "language_info": {
   "codemirror_mode": {
    "name": "ipython",
    "version": 3
   },
   "file_extension": ".py",
   "mimetype": "text/x-python",
   "name": "python",
   "nbconvert_exporter": "python",
   "pygments_lexer": "ipython3",
   "version": "3.7.1"
  }
 },
 "nbformat": 4,
 "nbformat_minor": 2
}
